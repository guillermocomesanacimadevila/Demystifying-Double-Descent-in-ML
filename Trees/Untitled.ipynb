{
 "cells": [
  {
   "cell_type": "markdown",
   "id": "823557bc-bbfd-43fd-9305-b8fb905f2096",
   "metadata": {},
   "source": [
    "### Dobule Descent -> Decision Trees and RFs"
   ]
  },
  {
   "cell_type": "code",
   "execution_count": 71,
   "id": "8c05d51f-8ebf-4abd-90a7-3824f6deab51",
   "metadata": {
    "tags": []
   },
   "outputs": [
    {
     "name": "stdout",
     "output_type": "stream",
     "text": [
      "Requirement already satisfied: pandas in /shared/team/conda/gcc46.workshopzi/bioinformatics/lib/python3.13/site-packages (2.2.3)\n",
      "Requirement already satisfied: numpy in /shared/team/conda/gcc46.workshopzi/bioinformatics/lib/python3.13/site-packages (2.2.3)\n",
      "Requirement already satisfied: matplotlib in /shared/team/conda/gcc46.workshopzi/bioinformatics/lib/python3.13/site-packages (3.10.1)\n",
      "Requirement already satisfied: scikit-learn in /shared/team/conda/gcc46.workshopzi/bioinformatics/lib/python3.13/site-packages (1.6.1)\n",
      "Requirement already satisfied: python-dateutil>=2.8.2 in /shared/team/conda/gcc46.workshopzi/bioinformatics/lib/python3.13/site-packages (from pandas) (2.9.0.post0)\n",
      "Requirement already satisfied: pytz>=2020.1 in /shared/team/conda/gcc46.workshopzi/bioinformatics/lib/python3.13/site-packages (from pandas) (2025.1)\n",
      "Requirement already satisfied: tzdata>=2022.7 in /shared/team/conda/gcc46.workshopzi/bioinformatics/lib/python3.13/site-packages (from pandas) (2025.1)\n",
      "Requirement already satisfied: contourpy>=1.0.1 in /shared/team/conda/gcc46.workshopzi/bioinformatics/lib/python3.13/site-packages (from matplotlib) (1.3.1)\n",
      "Requirement already satisfied: cycler>=0.10 in /shared/team/conda/gcc46.workshopzi/bioinformatics/lib/python3.13/site-packages (from matplotlib) (0.12.1)\n",
      "Requirement already satisfied: fonttools>=4.22.0 in /shared/team/conda/gcc46.workshopzi/bioinformatics/lib/python3.13/site-packages (from matplotlib) (4.56.0)\n",
      "Requirement already satisfied: kiwisolver>=1.3.1 in /shared/team/conda/gcc46.workshopzi/bioinformatics/lib/python3.13/site-packages (from matplotlib) (1.4.8)\n",
      "Requirement already satisfied: packaging>=20.0 in /shared/team/conda/gcc46.workshopzi/bioinformatics/lib/python3.13/site-packages (from matplotlib) (24.2)\n",
      "Requirement already satisfied: pillow>=8 in /shared/team/conda/gcc46.workshopzi/bioinformatics/lib/python3.13/site-packages (from matplotlib) (11.1.0)\n",
      "Requirement already satisfied: pyparsing>=2.3.1 in /shared/team/conda/gcc46.workshopzi/bioinformatics/lib/python3.13/site-packages (from matplotlib) (3.2.1)\n",
      "Requirement already satisfied: scipy>=1.6.0 in /shared/team/conda/gcc46.workshopzi/bioinformatics/lib/python3.13/site-packages (from scikit-learn) (1.15.2)\n",
      "Requirement already satisfied: joblib>=1.2.0 in /shared/team/conda/gcc46.workshopzi/bioinformatics/lib/python3.13/site-packages (from scikit-learn) (1.4.2)\n",
      "Requirement already satisfied: threadpoolctl>=3.1.0 in /shared/team/conda/gcc46.workshopzi/bioinformatics/lib/python3.13/site-packages (from scikit-learn) (3.5.0)\n",
      "Requirement already satisfied: six>=1.5 in /shared/team/conda/gcc46.workshopzi/bioinformatics/lib/python3.13/site-packages (from python-dateutil>=2.8.2->pandas) (1.17.0)\n"
     ]
    }
   ],
   "source": [
    "! pip install pandas numpy matplotlib scikit-learn"
   ]
  },
  {
   "cell_type": "code",
   "execution_count": 72,
   "id": "98d3a408-61df-41e5-921e-fc95e6f0d79a",
   "metadata": {
    "tags": []
   },
   "outputs": [],
   "source": [
    "import os\n",
    "import pandas as pd\n",
    "import numpy as np\n",
    "import matplotlib.pyplot as plt\n",
    "from sklearn.model_selection import train_test_split\n",
    "from sklearn.tree import DecisionTreeRegressor\n",
    "from sklearn.ensemble import RandomForestRegressor\n",
    "from sklearn.metrics import mean_squared_error"
   ]
  },
  {
   "cell_type": "code",
   "execution_count": 77,
   "id": "5795b9fc-90c7-490a-a847-5d4fd3eb165c",
   "metadata": {
    "tags": []
   },
   "outputs": [
    {
     "name": "stdout",
     "output_type": "stream",
     "text": [
      "/home/jovyan/DOUBLE_DESCENT/Scripts\n"
     ]
    }
   ],
   "source": [
    "! pwd"
   ]
  },
  {
   "cell_type": "code",
   "execution_count": 78,
   "id": "2bcdc83a-a7ae-4e12-995a-1c440be50eff",
   "metadata": {
    "tags": []
   },
   "outputs": [],
   "source": [
    "susceptible_dir = \"/home/jovyan/DOUBLE_DESCENT/Data/downloaded_susceptible/gunziped_susceptible/csv_susceptible\""
   ]
  },
  {
   "cell_type": "code",
   "execution_count": 79,
   "id": "4bd1835c-e89b-429d-8628-857beed2c638",
   "metadata": {
    "tags": []
   },
   "outputs": [],
   "source": [
    "resistant_dir = \"/home/jovyan/DOUBLE_DESCENT/Data/downloaded_resistant/gunziped_resistant/csv_converted\""
   ]
  },
  {
   "cell_type": "code",
   "execution_count": 80,
   "id": "2bf1806e-59d9-4482-8309-cc11f534df0e",
   "metadata": {
    "tags": []
   },
   "outputs": [],
   "source": [
    "# Function to extract genotype and features from CSV files\n",
    "def extract_features_from_csv(file_path):\n",
    "    df = pd.read_csv(file_path)\n",
    "\n",
    "    # Extract GT (Genotype) field from the last column\n",
    "    sample_col = df.columns[-1]  # The last column contains sample-specific genotype data\n",
    "    df[[\"GT\", \"DP\", \"GT_CONF\"]] = df[sample_col].str.split(\":\", expand=True)[[0, 1, 5]]\n",
    "\n",
    "    # Convert genotype format to numerical values\n",
    "    genotype_map = {\"0/0\": 0, \"0/1\": 1, \"1/1\": 2}\n",
    "    df[\"GT\"] = df[\"GT\"].map(genotype_map).fillna(0).astype(int)  # Convert to numeric\n",
    "\n",
    "    # Convert DP (Depth) and GT_CONF (Confidence) to float\n",
    "    df[\"DP\"] = pd.to_numeric(df[\"DP\"], errors=\"coerce\").fillna(0)\n",
    "    df[\"GT_CONF\"] = pd.to_numeric(df[\"GT_CONF\"], errors=\"coerce\").fillna(0)\n",
    "\n",
    "    # Keep only relevant columns\n",
    "    return df[[\"POS\", \"GT\", \"DP\", \"GT_CONF\"]]"
   ]
  },
  {
   "cell_type": "code",
   "execution_count": 81,
   "id": "4a093dc6-d046-4c6f-ad14-eaa5222d64b0",
   "metadata": {
    "tags": []
   },
   "outputs": [],
   "source": [
    "# Load all susceptible samples\n",
    "susceptible_data = []\n",
    "for file in os.listdir(susceptible_dir):\n",
    "    if file.endswith(\".csv\"):\n",
    "        file_path = os.path.join(susceptible_dir, file)\n",
    "        susceptible_data.append(extract_features_from_csv(file_path))\n",
    "susceptible_df = pd.concat(susceptible_data, ignore_index=True)\n",
    "susceptible_df[\"label\"] = 0  # Susceptible label"
   ]
  },
  {
   "cell_type": "code",
   "execution_count": 84,
   "id": "ab86bb0a-a634-44aa-b7b7-2a70c339e57c",
   "metadata": {
    "tags": []
   },
   "outputs": [
    {
     "data": {
      "text/plain": [
       "[          POS  GT   DP  GT_CONF\n",
       " 0        1849   2  318  2441.45\n",
       " 1        1977   2  303  2369.32\n",
       " 2        4013   2  352  2660.17\n",
       " 3        7362   2  295  2321.12\n",
       " 4        7585   2  322  2482.97\n",
       " ...       ...  ..  ...      ...\n",
       " 1959  4398687   2  304  2375.34\n",
       " 1960  4400660   2  272  2137.57\n",
       " 1961  4407588   2  253  2064.35\n",
       " 1962  4407927   2  288  2278.76\n",
       " 1963  4408923   2  263  2126.08\n",
       " \n",
       " [1964 rows x 4 columns],\n",
       "           POS  GT   DP  GT_CONF\n",
       " 0        1977   2  260  1994.78\n",
       " 1        4013   2  262  2006.64\n",
       " 2        7362   2  252  1947.21\n",
       " 3        7585   2  259  1988.85\n",
       " 4        9304   2  251  1941.25\n",
       " ...       ...  ..  ...      ...\n",
       " 1264  4392787   2  228  1802.96\n",
       " 1265  4395613   2  211  1699.26\n",
       " 1266  4399484   2  249  1929.31\n",
       " 1267  4400659   2  205  1574.83\n",
       " 1268  4401239   2  234  1839.25\n",
       " \n",
       " [1269 rows x 4 columns],\n",
       "           POS  GT   DP  GT_CONF\n",
       " 0        1849   2  282  2013.81\n",
       " 1        1977   2  293  2075.28\n",
       " 2        4013   2  219  1652.96\n",
       " 3        7362   2  246  1809.56\n",
       " 4        7585   2  199  1534.83\n",
       " ...       ...  ..  ...      ...\n",
       " 1969  4400920   2  162  1310.83\n",
       " 1970  4407588   2  143  1192.63\n",
       " 1971  4407927   2  194  1504.99\n",
       " 1972  4408149   2  166  1269.01\n",
       " 1973  4408923   2  176  1396.49\n",
       " \n",
       " [1974 rows x 4 columns]]"
      ]
     },
     "execution_count": 84,
     "metadata": {},
     "output_type": "execute_result"
    }
   ],
   "source": [
    "susceptible_data[:3]"
   ]
  },
  {
   "cell_type": "code",
   "execution_count": 85,
   "id": "150b6f1f-3e89-4393-8c42-47fae9a0d04a",
   "metadata": {
    "tags": []
   },
   "outputs": [],
   "source": [
    "# Load all resistant samples\n",
    "resistant_data = []\n",
    "for file in os.listdir(resistant_dir):\n",
    "    if file.endswith(\".csv\"):\n",
    "        file_path = os.path.join(resistant_dir, file)\n",
    "        resistant_data.append(extract_features_from_csv(file_path))\n",
    "resistant_df = pd.concat(resistant_data, ignore_index=True)\n",
    "resistant_df[\"label\"] = 1  # Resistant label"
   ]
  },
  {
   "cell_type": "code",
   "execution_count": 86,
   "id": "a15e3901-23da-4cd7-88f4-14c419e8015c",
   "metadata": {
    "tags": []
   },
   "outputs": [
    {
     "data": {
      "text/plain": [
       "[          POS  GT  DP  GT_CONF\n",
       " 0        1849   2  37   350.06\n",
       " 1        1977   2  54   444.89\n",
       " 2        4013   2  62   512.24\n",
       " 3        7362   2  69   555.64\n",
       " 4        7581   2  95   663.97\n",
       " ...       ...  ..  ..      ...\n",
       " 2126  4405700   2  72   574.02\n",
       " 2127  4407588   2  80   622.44\n",
       " 2128  4407620   2  75   592.28\n",
       " 2129  4407927   2  78   610.41\n",
       " 2130  4408923   2  78   610.41\n",
       " \n",
       " [2131 rows x 4 columns],\n",
       "           POS  GT  DP  GT_CONF\n",
       " 0        1032   2  53   213.94\n",
       " 1        1718   2  39   339.13\n",
       " 2        1977   2  53   427.33\n",
       " 3        2532   2  19   203.70\n",
       " 4        4013   2  63   488.01\n",
       " ...       ...  ..  ..      ...\n",
       " 2875  4407816   2  69   523.65\n",
       " 2876  4407873   2  63   488.01\n",
       " 2877  4408919   2  65   480.37\n",
       " 2878  4410386   2  46   383.76\n",
       " 2879  4411016   2  38   332.66\n",
       " \n",
       " [2880 rows x 4 columns],\n",
       "           POS  GT  DP  GT_CONF\n",
       " 0        1691   2  49   427.60\n",
       " 1        1849   2  54   459.70\n",
       " 2        1977   2  72   571.75\n",
       " 3        3446   2  47   414.61\n",
       " 4        4013   2  70   559.54\n",
       " ...       ...  ..  ..      ...\n",
       " 2081  4403031   2  62   493.52\n",
       " 2082  4405532   2  87   661.62\n",
       " 2083  4407588   2  64   522.58\n",
       " 2084  4408923   2  54   459.70\n",
       " 2085  4409954   2  84   643.87\n",
       " \n",
       " [2086 rows x 4 columns]]"
      ]
     },
     "execution_count": 86,
     "metadata": {},
     "output_type": "execute_result"
    }
   ],
   "source": [
    "resistant_data[:3]"
   ]
  },
  {
   "cell_type": "code",
   "execution_count": 87,
   "id": "3a8bccf7-bbdd-4d97-848d-decb60e3dba0",
   "metadata": {
    "tags": []
   },
   "outputs": [],
   "source": [
    "# Combine both datasets\n",
    "data = pd.concat([susceptible_df, resistant_df], ignore_index=True)"
   ]
  },
  {
   "cell_type": "code",
   "execution_count": 88,
   "id": "66645bda-0ba0-47a9-93a5-5406a52b8490",
   "metadata": {
    "tags": []
   },
   "outputs": [
    {
     "data": {
      "text/plain": [
       "POS        0\n",
       "GT         0\n",
       "DP         0\n",
       "GT_CONF    0\n",
       "label      0\n",
       "dtype: int64"
      ]
     },
     "execution_count": 88,
     "metadata": {},
     "output_type": "execute_result"
    }
   ],
   "source": [
    "data.isna().sum()"
   ]
  },
  {
   "cell_type": "code",
   "execution_count": 89,
   "id": "a6d54e75-fa36-473e-9abd-de5d142582b9",
   "metadata": {
    "tags": []
   },
   "outputs": [],
   "source": [
    "data.dropna(inplace=True) # Just in case"
   ]
  },
  {
   "cell_type": "code",
   "execution_count": 90,
   "id": "915bb740-55f8-4aba-91cd-f114b44036a1",
   "metadata": {
    "tags": []
   },
   "outputs": [],
   "source": [
    "# Prepare features and labels\n",
    "X = data.drop(columns=[\"label\"])  # Features\n",
    "y = data[\"label\"]  # Labels"
   ]
  },
  {
   "cell_type": "code",
   "execution_count": 91,
   "id": "2a4df183-f4f6-40ed-a46e-d2bf096f2af6",
   "metadata": {
    "tags": []
   },
   "outputs": [],
   "source": [
    "# Split into training and testing sets\n",
    "X_train, X_test, y_train, y_test = train_test_split(X, y, test_size=0.3, random_state=42)"
   ]
  },
  {
   "cell_type": "code",
   "execution_count": 92,
   "id": "495ccf54-2477-4695-97aa-3f31fceb6a5c",
   "metadata": {
    "tags": []
   },
   "outputs": [],
   "source": [
    "# Experiment: Varying tree depth (Single Decision Tree)\n",
    "tree_depths = list(range(1, 51))\n",
    "tree_train_errors = []\n",
    "tree_test_errors = []"
   ]
  },
  {
   "cell_type": "code",
   "execution_count": 93,
   "id": "4c227590-3ae1-456c-98cd-ffeb592c12a8",
   "metadata": {
    "tags": []
   },
   "outputs": [],
   "source": [
    "for depth in tree_depths:\n",
    "    tree = DecisionTreeRegressor(max_depth=depth, random_state=42)\n",
    "    tree.fit(X_train, y_train)\n",
    "    tree_train_errors.append(mean_squared_error(y_train, tree.predict(X_train)))\n",
    "    tree_test_errors.append(mean_squared_error(y_test, tree.predict(X_test)))    "
   ]
  },
  {
   "cell_type": "code",
   "execution_count": 94,
   "id": "4d3c6d3a-87ad-407d-a50b-a140641cbc0a",
   "metadata": {
    "tags": []
   },
   "outputs": [],
   "source": [
    "# Experiment: Varying number of trees in an ensemble (Random Forest)\n",
    "num_trees = list(range(1, 201, 10))\n",
    "rf_train_errors = []\n",
    "rf_test_errors = []"
   ]
  },
  {
   "cell_type": "code",
   "execution_count": 95,
   "id": "dec5d92a-70d0-4234-9d2a-6a1e8a57d33d",
   "metadata": {
    "tags": []
   },
   "outputs": [],
   "source": [
    "for n_trees in num_trees:\n",
    "    rf = RandomForestRegressor(n_estimators=n_trees, max_depth=10, random_state=42)\n",
    "    rf.fit(X_train, y_train)\n",
    "    rf_train_errors.append(mean_squared_error(y_train, rf.predict(X_train)))\n",
    "    rf_test_errors.append(mean_squared_error(y_test, rf.predict(X_test)))"
   ]
  },
  {
   "cell_type": "code",
   "execution_count": 99,
   "id": "a5927272-0eec-4637-ad56-0b587ca147e9",
   "metadata": {
    "tags": []
   },
   "outputs": [
    {
     "data": {
      "image/png": "[encoded data removed]",
      "text/plain": [
       "<Figure size 1500x400 with 2 Axes>"
      ]
     },
     "metadata": {},
     "output_type": "display_data"
    }
   ],
   "source": [
    "fig, axs = plt.subplots(1, 2, figsize=(15, 4))\n",
    "\n",
    "# Decision Tree Depth vs. MSE\n",
    "axs[0].plot(tree_depths, tree_train_errors, label=\"Train Error\", color=\"blue\")\n",
    "axs[0].plot(tree_depths, tree_test_errors, label=\"Test Error\", color=\"red\")\n",
    "axs[0].set_xlabel(\"Tree Depth\")\n",
    "axs[0].set_ylabel(\"Mean Squared Error\")\n",
    "axs[0].set_title(\"Test & Train Error vs Tree Depth (Single Tree)\")\n",
    "axs[0].legend()\n",
    "\n",
    "# Random Forest Error Plot (Varying Number of Trees)\n",
    "axs[1].plot(num_trees, rf_train_errors, label=\"Train Error\", color=\"blue\")\n",
    "axs[1].plot(num_trees, rf_test_errors, label=\"Test Error\", color=\"red\")\n",
    "axs[1].set_xlabel(\"Number of Trees in Ensemble\")\n",
    "axs[1].set_ylabel(\"Mean Squared Error\")\n",
    "axs[1].set_title(\"Test & Train Error vs Number of Trees (Ensemble)\")\n",
    "axs[1].legend()\n",
    "\n",
    "plt.savefig(\"CRyPTIC_double_descent.png\", dpi=300)\n",
    "plt.show()"
   ]
  }
 ],
 "metadata": {
  "kernelspec": {
   "display_name": "Python [conda env:bioinformatics]",
   "language": "python",
   "name": "conda-env-bioinformatics-py"
  },
  "language_info": {
   "codemirror_mode": {
    "name": "ipython",
    "version": 3
   },
   "file_extension": ".py",
   "mimetype": "text/x-python",
   "name": "python",
   "nbconvert_exporter": "python",
   "pygments_lexer": "ipython3",
   "version": "3.13.2"
  }
 },
 "nbformat": 4,
 "nbformat_minor": 5
}
