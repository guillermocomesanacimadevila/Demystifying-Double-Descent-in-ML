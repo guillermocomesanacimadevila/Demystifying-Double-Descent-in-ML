{
 "cells": [
  {
   "cell_type": "code",
   "execution_count": 3,
   "id": "10247ac9-6ee9-4928-a66f-6061ad0cb304",
   "metadata": {},
   "outputs": [],
   "source": [
    "import os\n",
    "import pandas as pd\n",
    "import csv\n",
    "import matplotlib.pyplot as plt\n",
    "import seaborn as sns"
   ]
  },
  {
   "cell_type": "code",
   "execution_count": 4,
   "id": "802ea7ee-1345-4886-ada0-e642a95aab83",
   "metadata": {},
   "outputs": [],
   "source": [
    "def read_file(location):\n",
    "    with open(os.path.expanduser(location), \"r\") as file:\n",
    "        return pd.read_csv(file, sep=\",\")"
   ]
  },
  {
   "cell_type": "code",
   "execution_count": 5,
   "id": "37a47973-a6f7-479d-b9f8-63a1d0bd9b2e",
   "metadata": {},
   "outputs": [],
   "source": [
    "df = read_file(\"/Users/guillermocomesanacimadevila/double_dipping/Data/CRyPTIC_reuse_table_20221019.csv\")"
   ]
  },
  {
   "cell_type": "code",
   "execution_count": 6,
   "id": "6b9a3760-b155-46b3-95c0-a81a42b43ffe",
   "metadata": {
    "scrolled": true
   },
   "outputs": [
    {
     "data": {
      "text/html": [
       "<div>\n",
       "<style scoped>\n",
       "    .dataframe tbody tr th:only-of-type {\n",
       "        vertical-align: middle;\n",
       "    }\n",
       "\n",
       "    .dataframe tbody tr th {\n",
       "        vertical-align: top;\n",
       "    }\n",
       "\n",
       "    .dataframe thead th {\n",
       "        text-align: right;\n",
       "    }\n",
       "</style>\n",
       "<table border=\"1\" class=\"dataframe\">\n",
       "  <thead>\n",
       "    <tr style=\"text-align: right;\">\n",
       "      <th></th>\n",
       "      <th>UNIQUEID</th>\n",
       "      <th>AMI_BINARY_PHENOTYPE</th>\n",
       "      <th>BDQ_BINARY_PHENOTYPE</th>\n",
       "      <th>CFZ_BINARY_PHENOTYPE</th>\n",
       "      <th>DLM_BINARY_PHENOTYPE</th>\n",
       "      <th>EMB_BINARY_PHENOTYPE</th>\n",
       "      <th>ETH_BINARY_PHENOTYPE</th>\n",
       "      <th>INH_BINARY_PHENOTYPE</th>\n",
       "      <th>KAN_BINARY_PHENOTYPE</th>\n",
       "      <th>LEV_BINARY_PHENOTYPE</th>\n",
       "      <th>...</th>\n",
       "      <th>INH_PHENOTYPE_QUALITY</th>\n",
       "      <th>KAN_PHENOTYPE_QUALITY</th>\n",
       "      <th>LEV_PHENOTYPE_QUALITY</th>\n",
       "      <th>LZD_PHENOTYPE_QUALITY</th>\n",
       "      <th>MXF_PHENOTYPE_QUALITY</th>\n",
       "      <th>RIF_PHENOTYPE_QUALITY</th>\n",
       "      <th>RFB_PHENOTYPE_QUALITY</th>\n",
       "      <th>ENA_SAMPLE</th>\n",
       "      <th>VCF</th>\n",
       "      <th>REGENOTYPED_VCF</th>\n",
       "    </tr>\n",
       "  </thead>\n",
       "  <tbody>\n",
       "    <tr>\n",
       "      <th>0</th>\n",
       "      <td>site.02.subj.0001.lab.2014222001.iso.1</td>\n",
       "      <td>S</td>\n",
       "      <td>NaN</td>\n",
       "      <td>S</td>\n",
       "      <td>S</td>\n",
       "      <td>S</td>\n",
       "      <td>S</td>\n",
       "      <td>S</td>\n",
       "      <td>S</td>\n",
       "      <td>S</td>\n",
       "      <td>...</td>\n",
       "      <td>HIGH</td>\n",
       "      <td>HIGH</td>\n",
       "      <td>HIGH</td>\n",
       "      <td>HIGH</td>\n",
       "      <td>HIGH</td>\n",
       "      <td>HIGH</td>\n",
       "      <td>HIGH</td>\n",
       "      <td>ERS5298516</td>\n",
       "      <td>00/01/08/61/10861/site.02.iso.1.subject.0001.l...</td>\n",
       "      <td>00/01/08/61/10861/site.02.iso.1.subject.0001.l...</td>\n",
       "    </tr>\n",
       "    <tr>\n",
       "      <th>1</th>\n",
       "      <td>site.02.subj.0002.lab.2014222005.iso.1</td>\n",
       "      <td>S</td>\n",
       "      <td>S</td>\n",
       "      <td>S</td>\n",
       "      <td>S</td>\n",
       "      <td>S</td>\n",
       "      <td>S</td>\n",
       "      <td>S</td>\n",
       "      <td>S</td>\n",
       "      <td>S</td>\n",
       "      <td>...</td>\n",
       "      <td>HIGH</td>\n",
       "      <td>HIGH</td>\n",
       "      <td>HIGH</td>\n",
       "      <td>HIGH</td>\n",
       "      <td>LOW</td>\n",
       "      <td>HIGH</td>\n",
       "      <td>HIGH</td>\n",
       "      <td>ERS5298518</td>\n",
       "      <td>00/01/08/63/10863/site.02.iso.1.subject.0002.l...</td>\n",
       "      <td>00/01/08/63/10863/site.02.iso.1.subject.0002.l...</td>\n",
       "    </tr>\n",
       "    <tr>\n",
       "      <th>2</th>\n",
       "      <td>site.02.subj.0004.lab.2014222010.iso.1</td>\n",
       "      <td>S</td>\n",
       "      <td>S</td>\n",
       "      <td>S</td>\n",
       "      <td>NaN</td>\n",
       "      <td>S</td>\n",
       "      <td>I</td>\n",
       "      <td>S</td>\n",
       "      <td>S</td>\n",
       "      <td>S</td>\n",
       "      <td>...</td>\n",
       "      <td>HIGH</td>\n",
       "      <td>HIGH</td>\n",
       "      <td>HIGH</td>\n",
       "      <td>HIGH</td>\n",
       "      <td>HIGH</td>\n",
       "      <td>HIGH</td>\n",
       "      <td>HIGH</td>\n",
       "      <td>ERS5298520</td>\n",
       "      <td>00/01/08/67/10867/site.02.iso.1.subject.0004.l...</td>\n",
       "      <td>00/01/08/67/10867/site.02.iso.1.subject.0004.l...</td>\n",
       "    </tr>\n",
       "    <tr>\n",
       "      <th>3</th>\n",
       "      <td>site.02.subj.0005.lab.2014222011.iso.1</td>\n",
       "      <td>S</td>\n",
       "      <td>S</td>\n",
       "      <td>S</td>\n",
       "      <td>S</td>\n",
       "      <td>S</td>\n",
       "      <td>S</td>\n",
       "      <td>S</td>\n",
       "      <td>S</td>\n",
       "      <td>S</td>\n",
       "      <td>...</td>\n",
       "      <td>HIGH</td>\n",
       "      <td>HIGH</td>\n",
       "      <td>HIGH</td>\n",
       "      <td>HIGH</td>\n",
       "      <td>HIGH</td>\n",
       "      <td>HIGH</td>\n",
       "      <td>HIGH</td>\n",
       "      <td>ERS5298521</td>\n",
       "      <td>00/01/08/68/10868/site.02.iso.1.subject.0005.l...</td>\n",
       "      <td>00/01/08/68/10868/site.02.iso.1.subject.0005.l...</td>\n",
       "    </tr>\n",
       "    <tr>\n",
       "      <th>4</th>\n",
       "      <td>site.02.subj.0006.lab.2014222013.iso.1</td>\n",
       "      <td>S</td>\n",
       "      <td>S</td>\n",
       "      <td>S</td>\n",
       "      <td>S</td>\n",
       "      <td>S</td>\n",
       "      <td>S</td>\n",
       "      <td>S</td>\n",
       "      <td>S</td>\n",
       "      <td>S</td>\n",
       "      <td>...</td>\n",
       "      <td>HIGH</td>\n",
       "      <td>HIGH</td>\n",
       "      <td>HIGH</td>\n",
       "      <td>HIGH</td>\n",
       "      <td>HIGH</td>\n",
       "      <td>HIGH</td>\n",
       "      <td>HIGH</td>\n",
       "      <td>ERS5298522</td>\n",
       "      <td>00/01/08/69/10869/site.02.iso.1.subject.0006.l...</td>\n",
       "      <td>00/01/08/69/10869/site.02.iso.1.subject.0006.l...</td>\n",
       "    </tr>\n",
       "    <tr>\n",
       "      <th>...</th>\n",
       "      <td>...</td>\n",
       "      <td>...</td>\n",
       "      <td>...</td>\n",
       "      <td>...</td>\n",
       "      <td>...</td>\n",
       "      <td>...</td>\n",
       "      <td>...</td>\n",
       "      <td>...</td>\n",
       "      <td>...</td>\n",
       "      <td>...</td>\n",
       "      <td>...</td>\n",
       "      <td>...</td>\n",
       "      <td>...</td>\n",
       "      <td>...</td>\n",
       "      <td>...</td>\n",
       "      <td>...</td>\n",
       "      <td>...</td>\n",
       "      <td>...</td>\n",
       "      <td>...</td>\n",
       "      <td>...</td>\n",
       "      <td>...</td>\n",
       "    </tr>\n",
       "    <tr>\n",
       "      <th>12283</th>\n",
       "      <td>site.20.subj.SCH8604398.lab.YA00134621.iso.1</td>\n",
       "      <td>S</td>\n",
       "      <td>S</td>\n",
       "      <td>S</td>\n",
       "      <td>S</td>\n",
       "      <td>S</td>\n",
       "      <td>S</td>\n",
       "      <td>S</td>\n",
       "      <td>S</td>\n",
       "      <td>S</td>\n",
       "      <td>...</td>\n",
       "      <td>HIGH</td>\n",
       "      <td>HIGH</td>\n",
       "      <td>LOW</td>\n",
       "      <td>HIGH</td>\n",
       "      <td>LOW</td>\n",
       "      <td>HIGH</td>\n",
       "      <td>HIGH</td>\n",
       "      <td>ERS6421619</td>\n",
       "      <td>00/02/83/85/28385/site.20.iso.1.subject.SCH860...</td>\n",
       "      <td>00/02/83/85/28385/site.20.iso.1.subject.SCH860...</td>\n",
       "    </tr>\n",
       "    <tr>\n",
       "      <th>12284</th>\n",
       "      <td>site.20.subj.SCH8604399.lab.YA00134971.iso.1</td>\n",
       "      <td>S</td>\n",
       "      <td>S</td>\n",
       "      <td>S</td>\n",
       "      <td>S</td>\n",
       "      <td>S</td>\n",
       "      <td>S</td>\n",
       "      <td>S</td>\n",
       "      <td>S</td>\n",
       "      <td>S</td>\n",
       "      <td>...</td>\n",
       "      <td>HIGH</td>\n",
       "      <td>LOW</td>\n",
       "      <td>HIGH</td>\n",
       "      <td>HIGH</td>\n",
       "      <td>LOW</td>\n",
       "      <td>LOW</td>\n",
       "      <td>HIGH</td>\n",
       "      <td>ERS6421664</td>\n",
       "      <td>00/02/84/35/28435/site.20.iso.1.subject.SCH860...</td>\n",
       "      <td>00/02/84/35/28435/site.20.iso.1.subject.SCH860...</td>\n",
       "    </tr>\n",
       "    <tr>\n",
       "      <th>12285</th>\n",
       "      <td>site.20.subj.SCH8608291.lab.YA00135762.iso.1</td>\n",
       "      <td>S</td>\n",
       "      <td>S</td>\n",
       "      <td>S</td>\n",
       "      <td>S</td>\n",
       "      <td>R</td>\n",
       "      <td>R</td>\n",
       "      <td>R</td>\n",
       "      <td>S</td>\n",
       "      <td>R</td>\n",
       "      <td>...</td>\n",
       "      <td>HIGH</td>\n",
       "      <td>HIGH</td>\n",
       "      <td>HIGH</td>\n",
       "      <td>NaN</td>\n",
       "      <td>LOW</td>\n",
       "      <td>HIGH</td>\n",
       "      <td>HIGH</td>\n",
       "      <td>ERS6421689</td>\n",
       "      <td>00/02/85/60/28560/site.20.iso.1.subject.SCH860...</td>\n",
       "      <td>00/02/85/60/28560/site.20.iso.1.subject.SCH860...</td>\n",
       "    </tr>\n",
       "    <tr>\n",
       "      <th>12286</th>\n",
       "      <td>site.20.subj.SCH8608295.lab.YA00134623.iso.1</td>\n",
       "      <td>S</td>\n",
       "      <td>S</td>\n",
       "      <td>S</td>\n",
       "      <td>S</td>\n",
       "      <td>S</td>\n",
       "      <td>S</td>\n",
       "      <td>S</td>\n",
       "      <td>S</td>\n",
       "      <td>S</td>\n",
       "      <td>...</td>\n",
       "      <td>HIGH</td>\n",
       "      <td>HIGH</td>\n",
       "      <td>LOW</td>\n",
       "      <td>HIGH</td>\n",
       "      <td>LOW</td>\n",
       "      <td>HIGH</td>\n",
       "      <td>HIGH</td>\n",
       "      <td>ERS6421620</td>\n",
       "      <td>00/02/83/86/28386/site.20.iso.1.subject.SCH860...</td>\n",
       "      <td>00/02/83/86/28386/site.20.iso.1.subject.SCH860...</td>\n",
       "    </tr>\n",
       "    <tr>\n",
       "      <th>12287</th>\n",
       "      <td>site.20.subj.SCH8612323.lab.YA00134624.iso.1</td>\n",
       "      <td>S</td>\n",
       "      <td>S</td>\n",
       "      <td>S</td>\n",
       "      <td>S</td>\n",
       "      <td>S</td>\n",
       "      <td>S</td>\n",
       "      <td>S</td>\n",
       "      <td>S</td>\n",
       "      <td>S</td>\n",
       "      <td>...</td>\n",
       "      <td>LOW</td>\n",
       "      <td>HIGH</td>\n",
       "      <td>LOW</td>\n",
       "      <td>LOW</td>\n",
       "      <td>LOW</td>\n",
       "      <td>HIGH</td>\n",
       "      <td>HIGH</td>\n",
       "      <td>ERS6421621</td>\n",
       "      <td>00/02/83/87/28387/site.20.iso.1.subject.SCH861...</td>\n",
       "      <td>00/02/83/87/28387/site.20.iso.1.subject.SCH861...</td>\n",
       "    </tr>\n",
       "  </tbody>\n",
       "</table>\n",
       "<p>12288 rows × 42 columns</p>\n",
       "</div>"
      ],
      "text/plain": [
       "                                           UNIQUEID AMI_BINARY_PHENOTYPE  \\\n",
       "0            site.02.subj.0001.lab.2014222001.iso.1                    S   \n",
       "1            site.02.subj.0002.lab.2014222005.iso.1                    S   \n",
       "2            site.02.subj.0004.lab.2014222010.iso.1                    S   \n",
       "3            site.02.subj.0005.lab.2014222011.iso.1                    S   \n",
       "4            site.02.subj.0006.lab.2014222013.iso.1                    S   \n",
       "...                                             ...                  ...   \n",
       "12283  site.20.subj.SCH8604398.lab.YA00134621.iso.1                    S   \n",
       "12284  site.20.subj.SCH8604399.lab.YA00134971.iso.1                    S   \n",
       "12285  site.20.subj.SCH8608291.lab.YA00135762.iso.1                    S   \n",
       "12286  site.20.subj.SCH8608295.lab.YA00134623.iso.1                    S   \n",
       "12287  site.20.subj.SCH8612323.lab.YA00134624.iso.1                    S   \n",
       "\n",
       "      BDQ_BINARY_PHENOTYPE CFZ_BINARY_PHENOTYPE DLM_BINARY_PHENOTYPE  \\\n",
       "0                      NaN                    S                    S   \n",
       "1                        S                    S                    S   \n",
       "2                        S                    S                  NaN   \n",
       "3                        S                    S                    S   \n",
       "4                        S                    S                    S   \n",
       "...                    ...                  ...                  ...   \n",
       "12283                    S                    S                    S   \n",
       "12284                    S                    S                    S   \n",
       "12285                    S                    S                    S   \n",
       "12286                    S                    S                    S   \n",
       "12287                    S                    S                    S   \n",
       "\n",
       "      EMB_BINARY_PHENOTYPE ETH_BINARY_PHENOTYPE INH_BINARY_PHENOTYPE  \\\n",
       "0                        S                    S                    S   \n",
       "1                        S                    S                    S   \n",
       "2                        S                    I                    S   \n",
       "3                        S                    S                    S   \n",
       "4                        S                    S                    S   \n",
       "...                    ...                  ...                  ...   \n",
       "12283                    S                    S                    S   \n",
       "12284                    S                    S                    S   \n",
       "12285                    R                    R                    R   \n",
       "12286                    S                    S                    S   \n",
       "12287                    S                    S                    S   \n",
       "\n",
       "      KAN_BINARY_PHENOTYPE LEV_BINARY_PHENOTYPE  ... INH_PHENOTYPE_QUALITY  \\\n",
       "0                        S                    S  ...                  HIGH   \n",
       "1                        S                    S  ...                  HIGH   \n",
       "2                        S                    S  ...                  HIGH   \n",
       "3                        S                    S  ...                  HIGH   \n",
       "4                        S                    S  ...                  HIGH   \n",
       "...                    ...                  ...  ...                   ...   \n",
       "12283                    S                    S  ...                  HIGH   \n",
       "12284                    S                    S  ...                  HIGH   \n",
       "12285                    S                    R  ...                  HIGH   \n",
       "12286                    S                    S  ...                  HIGH   \n",
       "12287                    S                    S  ...                   LOW   \n",
       "\n",
       "      KAN_PHENOTYPE_QUALITY LEV_PHENOTYPE_QUALITY LZD_PHENOTYPE_QUALITY  \\\n",
       "0                      HIGH                  HIGH                  HIGH   \n",
       "1                      HIGH                  HIGH                  HIGH   \n",
       "2                      HIGH                  HIGH                  HIGH   \n",
       "3                      HIGH                  HIGH                  HIGH   \n",
       "4                      HIGH                  HIGH                  HIGH   \n",
       "...                     ...                   ...                   ...   \n",
       "12283                  HIGH                   LOW                  HIGH   \n",
       "12284                   LOW                  HIGH                  HIGH   \n",
       "12285                  HIGH                  HIGH                   NaN   \n",
       "12286                  HIGH                   LOW                  HIGH   \n",
       "12287                  HIGH                   LOW                   LOW   \n",
       "\n",
       "      MXF_PHENOTYPE_QUALITY RIF_PHENOTYPE_QUALITY RFB_PHENOTYPE_QUALITY  \\\n",
       "0                      HIGH                  HIGH                  HIGH   \n",
       "1                       LOW                  HIGH                  HIGH   \n",
       "2                      HIGH                  HIGH                  HIGH   \n",
       "3                      HIGH                  HIGH                  HIGH   \n",
       "4                      HIGH                  HIGH                  HIGH   \n",
       "...                     ...                   ...                   ...   \n",
       "12283                   LOW                  HIGH                  HIGH   \n",
       "12284                   LOW                   LOW                  HIGH   \n",
       "12285                   LOW                  HIGH                  HIGH   \n",
       "12286                   LOW                  HIGH                  HIGH   \n",
       "12287                   LOW                  HIGH                  HIGH   \n",
       "\n",
       "       ENA_SAMPLE                                                VCF  \\\n",
       "0      ERS5298516  00/01/08/61/10861/site.02.iso.1.subject.0001.l...   \n",
       "1      ERS5298518  00/01/08/63/10863/site.02.iso.1.subject.0002.l...   \n",
       "2      ERS5298520  00/01/08/67/10867/site.02.iso.1.subject.0004.l...   \n",
       "3      ERS5298521  00/01/08/68/10868/site.02.iso.1.subject.0005.l...   \n",
       "4      ERS5298522  00/01/08/69/10869/site.02.iso.1.subject.0006.l...   \n",
       "...           ...                                                ...   \n",
       "12283  ERS6421619  00/02/83/85/28385/site.20.iso.1.subject.SCH860...   \n",
       "12284  ERS6421664  00/02/84/35/28435/site.20.iso.1.subject.SCH860...   \n",
       "12285  ERS6421689  00/02/85/60/28560/site.20.iso.1.subject.SCH860...   \n",
       "12286  ERS6421620  00/02/83/86/28386/site.20.iso.1.subject.SCH860...   \n",
       "12287  ERS6421621  00/02/83/87/28387/site.20.iso.1.subject.SCH861...   \n",
       "\n",
       "                                         REGENOTYPED_VCF  \n",
       "0      00/01/08/61/10861/site.02.iso.1.subject.0001.l...  \n",
       "1      00/01/08/63/10863/site.02.iso.1.subject.0002.l...  \n",
       "2      00/01/08/67/10867/site.02.iso.1.subject.0004.l...  \n",
       "3      00/01/08/68/10868/site.02.iso.1.subject.0005.l...  \n",
       "4      00/01/08/69/10869/site.02.iso.1.subject.0006.l...  \n",
       "...                                                  ...  \n",
       "12283  00/02/83/85/28385/site.20.iso.1.subject.SCH860...  \n",
       "12284  00/02/84/35/28435/site.20.iso.1.subject.SCH860...  \n",
       "12285  00/02/85/60/28560/site.20.iso.1.subject.SCH860...  \n",
       "12286  00/02/83/86/28386/site.20.iso.1.subject.SCH860...  \n",
       "12287  00/02/83/87/28387/site.20.iso.1.subject.SCH861...  \n",
       "\n",
       "[12288 rows x 42 columns]"
      ]
     },
     "execution_count": 6,
     "metadata": {},
     "output_type": "execute_result"
    }
   ],
   "source": [
    "df # need to sort this shit out"
   ]
  },
  {
   "cell_type": "code",
   "execution_count": 7,
   "id": "454634c9-10a8-46ba-82a7-1c924056604e",
   "metadata": {},
   "outputs": [
    {
     "data": {
      "text/plain": [
       "Index(['UNIQUEID', 'AMI_BINARY_PHENOTYPE', 'BDQ_BINARY_PHENOTYPE',\n",
       "       'CFZ_BINARY_PHENOTYPE', 'DLM_BINARY_PHENOTYPE', 'EMB_BINARY_PHENOTYPE',\n",
       "       'ETH_BINARY_PHENOTYPE', 'INH_BINARY_PHENOTYPE', 'KAN_BINARY_PHENOTYPE',\n",
       "       'LEV_BINARY_PHENOTYPE', 'LZD_BINARY_PHENOTYPE', 'MXF_BINARY_PHENOTYPE',\n",
       "       'RIF_BINARY_PHENOTYPE', 'RFB_BINARY_PHENOTYPE', 'AMI_MIC', 'BDQ_MIC',\n",
       "       'CFZ_MIC', 'DLM_MIC', 'EMB_MIC', 'ETH_MIC', 'INH_MIC', 'KAN_MIC',\n",
       "       'LEV_MIC', 'LZD_MIC', 'MXF_MIC', 'RIF_MIC', 'RFB_MIC',\n",
       "       'AMI_PHENOTYPE_QUALITY', 'BDQ_PHENOTYPE_QUALITY',\n",
       "       'CFZ_PHENOTYPE_QUALITY', 'EMB_PHENOTYPE_QUALITY',\n",
       "       'ETH_PHENOTYPE_QUALITY', 'INH_PHENOTYPE_QUALITY',\n",
       "       'KAN_PHENOTYPE_QUALITY', 'LEV_PHENOTYPE_QUALITY',\n",
       "       'LZD_PHENOTYPE_QUALITY', 'MXF_PHENOTYPE_QUALITY',\n",
       "       'RIF_PHENOTYPE_QUALITY', 'RFB_PHENOTYPE_QUALITY', 'ENA_SAMPLE', 'VCF',\n",
       "       'REGENOTYPED_VCF'],\n",
       "      dtype='object')"
      ]
     },
     "execution_count": 7,
     "metadata": {},
     "output_type": "execute_result"
    }
   ],
   "source": [
    "df.columns"
   ]
  },
  {
   "cell_type": "code",
   "execution_count": 8,
   "id": "53570418-5c27-4af4-89db-348e2ce3ec56",
   "metadata": {},
   "outputs": [
    {
     "data": {
      "text/plain": [
       "(12288, 42)"
      ]
     },
     "execution_count": 8,
     "metadata": {},
     "output_type": "execute_result"
    }
   ],
   "source": [
    "df.shape"
   ]
  },
  {
   "cell_type": "code",
   "execution_count": 24,
   "id": "368a0674-3184-4875-a8b4-a411d64467c1",
   "metadata": {},
   "outputs": [
    {
     "data": {
      "text/plain": [
       "100"
      ]
     },
     "execution_count": 24,
     "metadata": {},
     "output_type": "execute_result"
    }
   ],
   "source": [
    "df[\"LZD_BINARY_PHENOTYPE\"].isnull().sum() # load up into SQL"
   ]
  },
  {
   "cell_type": "code",
   "execution_count": 25,
   "id": "f12f68b7-6b0f-4c48-a4f7-1af8c6574f4b",
   "metadata": {},
   "outputs": [
    {
     "data": {
      "text/plain": [
       "array(['S', 'R', nan], dtype=object)"
      ]
     },
     "execution_count": 25,
     "metadata": {},
     "output_type": "execute_result"
    }
   ],
   "source": [
    "df[\"LZD_BINARY_PHENOTYPE\"].unique()"
   ]
  },
  {
   "cell_type": "code",
   "execution_count": 47,
   "id": "2c5b091a-a1ce-4aa5-b745-6221b416ab28",
   "metadata": {},
   "outputs": [
    {
     "data": {
      "text/plain": [
       "5147"
      ]
     },
     "execution_count": 47,
     "metadata": {},
     "output_type": "execute_result"
    }
   ],
   "source": [
    "len([i for i in df[\"LZD_PHENOTYPE_QUALITY\"] if i != \"HIGH\"])"
   ]
  },
  {
   "cell_type": "code",
   "execution_count": 26,
   "id": "1aac0018-7036-4ed9-80e9-d171260221f9",
   "metadata": {},
   "outputs": [],
   "source": [
    "df2 = df[[\"LZD_BINARY_PHENOTYPE\", \"VCF\", \"LZD_PHENOTYPE_QUALITY\"]].copy()"
   ]
  },
  {
   "cell_type": "code",
   "execution_count": 27,
   "id": "30e81b62-7f8c-46f0-b5cf-2d10e038ed1d",
   "metadata": {},
   "outputs": [
    {
     "data": {
      "text/html": [
       "<div>\n",
       "<style scoped>\n",
       "    .dataframe tbody tr th:only-of-type {\n",
       "        vertical-align: middle;\n",
       "    }\n",
       "\n",
       "    .dataframe tbody tr th {\n",
       "        vertical-align: top;\n",
       "    }\n",
       "\n",
       "    .dataframe thead th {\n",
       "        text-align: right;\n",
       "    }\n",
       "</style>\n",
       "<table border=\"1\" class=\"dataframe\">\n",
       "  <thead>\n",
       "    <tr style=\"text-align: right;\">\n",
       "      <th></th>\n",
       "      <th>LZD_BINARY_PHENOTYPE</th>\n",
       "      <th>VCF</th>\n",
       "      <th>LZD_PHENOTYPE_QUALITY</th>\n",
       "    </tr>\n",
       "  </thead>\n",
       "  <tbody>\n",
       "    <tr>\n",
       "      <th>0</th>\n",
       "      <td>S</td>\n",
       "      <td>00/01/08/61/10861/site.02.iso.1.subject.0001.l...</td>\n",
       "      <td>HIGH</td>\n",
       "    </tr>\n",
       "    <tr>\n",
       "      <th>1</th>\n",
       "      <td>S</td>\n",
       "      <td>00/01/08/63/10863/site.02.iso.1.subject.0002.l...</td>\n",
       "      <td>HIGH</td>\n",
       "    </tr>\n",
       "    <tr>\n",
       "      <th>2</th>\n",
       "      <td>S</td>\n",
       "      <td>00/01/08/67/10867/site.02.iso.1.subject.0004.l...</td>\n",
       "      <td>HIGH</td>\n",
       "    </tr>\n",
       "    <tr>\n",
       "      <th>3</th>\n",
       "      <td>S</td>\n",
       "      <td>00/01/08/68/10868/site.02.iso.1.subject.0005.l...</td>\n",
       "      <td>HIGH</td>\n",
       "    </tr>\n",
       "    <tr>\n",
       "      <th>4</th>\n",
       "      <td>S</td>\n",
       "      <td>00/01/08/69/10869/site.02.iso.1.subject.0006.l...</td>\n",
       "      <td>HIGH</td>\n",
       "    </tr>\n",
       "    <tr>\n",
       "      <th>...</th>\n",
       "      <td>...</td>\n",
       "      <td>...</td>\n",
       "      <td>...</td>\n",
       "    </tr>\n",
       "    <tr>\n",
       "      <th>12283</th>\n",
       "      <td>S</td>\n",
       "      <td>00/02/83/85/28385/site.20.iso.1.subject.SCH860...</td>\n",
       "      <td>HIGH</td>\n",
       "    </tr>\n",
       "    <tr>\n",
       "      <th>12284</th>\n",
       "      <td>S</td>\n",
       "      <td>00/02/84/35/28435/site.20.iso.1.subject.SCH860...</td>\n",
       "      <td>HIGH</td>\n",
       "    </tr>\n",
       "    <tr>\n",
       "      <th>12285</th>\n",
       "      <td>NaN</td>\n",
       "      <td>00/02/85/60/28560/site.20.iso.1.subject.SCH860...</td>\n",
       "      <td>NaN</td>\n",
       "    </tr>\n",
       "    <tr>\n",
       "      <th>12286</th>\n",
       "      <td>S</td>\n",
       "      <td>00/02/83/86/28386/site.20.iso.1.subject.SCH860...</td>\n",
       "      <td>HIGH</td>\n",
       "    </tr>\n",
       "    <tr>\n",
       "      <th>12287</th>\n",
       "      <td>S</td>\n",
       "      <td>00/02/83/87/28387/site.20.iso.1.subject.SCH861...</td>\n",
       "      <td>LOW</td>\n",
       "    </tr>\n",
       "  </tbody>\n",
       "</table>\n",
       "<p>12288 rows × 3 columns</p>\n",
       "</div>"
      ],
      "text/plain": [
       "      LZD_BINARY_PHENOTYPE                                                VCF  \\\n",
       "0                        S  00/01/08/61/10861/site.02.iso.1.subject.0001.l...   \n",
       "1                        S  00/01/08/63/10863/site.02.iso.1.subject.0002.l...   \n",
       "2                        S  00/01/08/67/10867/site.02.iso.1.subject.0004.l...   \n",
       "3                        S  00/01/08/68/10868/site.02.iso.1.subject.0005.l...   \n",
       "4                        S  00/01/08/69/10869/site.02.iso.1.subject.0006.l...   \n",
       "...                    ...                                                ...   \n",
       "12283                    S  00/02/83/85/28385/site.20.iso.1.subject.SCH860...   \n",
       "12284                    S  00/02/84/35/28435/site.20.iso.1.subject.SCH860...   \n",
       "12285                  NaN  00/02/85/60/28560/site.20.iso.1.subject.SCH860...   \n",
       "12286                    S  00/02/83/86/28386/site.20.iso.1.subject.SCH860...   \n",
       "12287                    S  00/02/83/87/28387/site.20.iso.1.subject.SCH861...   \n",
       "\n",
       "      LZD_PHENOTYPE_QUALITY  \n",
       "0                      HIGH  \n",
       "1                      HIGH  \n",
       "2                      HIGH  \n",
       "3                      HIGH  \n",
       "4                      HIGH  \n",
       "...                     ...  \n",
       "12283                  HIGH  \n",
       "12284                  HIGH  \n",
       "12285                   NaN  \n",
       "12286                  HIGH  \n",
       "12287                   LOW  \n",
       "\n",
       "[12288 rows x 3 columns]"
      ]
     },
     "execution_count": 27,
     "metadata": {},
     "output_type": "execute_result"
    }
   ],
   "source": [
    "df2"
   ]
  },
  {
   "cell_type": "code",
   "execution_count": 30,
   "id": "de6da070-8fd5-4329-bb20-30e46530ca6b",
   "metadata": {},
   "outputs": [],
   "source": [
    "df3 = df2.loc[~df2[\"LZD_BINARY_PHENOTYPE\"].isnull()]\n",
    "df3 = df3.loc[df3[\"LZD_PHENOTYPE_QUALITY\"] == \"HIGH\"]"
   ]
  },
  {
   "cell_type": "code",
   "execution_count": 33,
   "id": "eef47549-64a9-4610-a6d0-d542d863a597",
   "metadata": {},
   "outputs": [
    {
     "data": {
      "text/plain": [
       "array(['HIGH'], dtype=object)"
      ]
     },
     "execution_count": 33,
     "metadata": {},
     "output_type": "execute_result"
    }
   ],
   "source": [
    "df3[\"LZD_PHENOTYPE_QUALITY\"].unique()"
   ]
  },
  {
   "cell_type": "code",
   "execution_count": 34,
   "id": "4f6c73e9-2c33-4e11-bdca-89e8afcae2bc",
   "metadata": {},
   "outputs": [
    {
     "data": {
      "text/plain": [
       "5147"
      ]
     },
     "execution_count": 34,
     "metadata": {},
     "output_type": "execute_result"
    }
   ],
   "source": [
    "(df2.shape[0] - df3.shape[0]) # check that isna total = correct"
   ]
  },
  {
   "cell_type": "code",
   "execution_count": 35,
   "id": "7e7d81b4-b822-460f-a6fd-60898fd1f762",
   "metadata": {
    "scrolled": true
   },
   "outputs": [],
   "source": [
    "df3 # okay, here are all of the VCFs for where the drug = TRUE\n",
    "df3 = df3.head(n=1000)\n",
    "# parse onto a csv \n",
    "df3.to_csv(\"vcf_table.csv\")"
   ]
  },
  {
   "cell_type": "code",
   "execution_count": 36,
   "id": "478d9e27-f0ad-4662-83cd-49cdc6180bc6",
   "metadata": {},
   "outputs": [
    {
     "data": {
      "text/plain": [
       "(1000, 3)"
      ]
     },
     "execution_count": 36,
     "metadata": {},
     "output_type": "execute_result"
    }
   ],
   "source": [
    "# parse to download all vcfs from that \n",
    "df3.shape # select only 1,000 but download VCFs"
   ]
  },
  {
   "cell_type": "code",
   "execution_count": 37,
   "id": "5b03c786-215b-4740-9ae1-35c589b0bf4e",
   "metadata": {},
   "outputs": [],
   "source": [
    "df3\n",
    "df3.to_csv(\"vcf_drug.csv\", index=False)"
   ]
  },
  {
   "cell_type": "code",
   "execution_count": 38,
   "id": "3f10389c-6138-4c4e-9468-70e58be78648",
   "metadata": {},
   "outputs": [
    {
     "data": {
      "text/plain": [
       "LZD_BINARY_PHENOTYPE\n",
       "S    985\n",
       "R     15\n",
       "Name: count, dtype: int64"
      ]
     },
     "execution_count": 38,
     "metadata": {},
     "output_type": "execute_result"
    }
   ],
   "source": [
    "value_counts = df3[\"LZD_BINARY_PHENOTYPE\"].value_counts()\n",
    "value_counts"
   ]
  },
  {
   "cell_type": "code",
   "execution_count": 39,
   "id": "bbd63c82-7a8f-4f8d-83ee-609f85334bb6",
   "metadata": {},
   "outputs": [
    {
     "data": {
      "image/png": "[encoded data removed]",
      "text/plain": [
       "<Figure size 1000x600 with 1 Axes>"
      ]
     },
     "metadata": {},
     "output_type": "display_data"
    }
   ],
   "source": [
    "plt.figure(figsize=(10, 6))\n",
    "\n",
    "plt.bar(value_counts.index, value_counts.values)\n",
    "plt.tight_layout()\n",
    "plt.show()"
   ]
  },
  {
   "cell_type": "code",
   "execution_count": 40,
   "id": "bca5ef30-8d56-48e9-8199-c6f5f420b84d",
   "metadata": {},
   "outputs": [
    {
     "data": {
      "text/plain": [
       "'00/01/08/61/10861/site.02.iso.1.subject.0001.lab_id.2014222001.seq_reps.14222001.regeno.vcf.gz'"
      ]
     },
     "execution_count": 40,
     "metadata": {},
     "output_type": "execute_result"
    }
   ],
   "source": [
    "df[\"REGENOTYPED_VCF\"] [0]"
   ]
  },
  {
   "cell_type": "code",
   "execution_count": 41,
   "id": "6a587e3f-bdb9-487f-a30c-a2392f96d73f",
   "metadata": {},
   "outputs": [
    {
     "data": {
      "text/plain": [
       "Index(['UNIQUEID', 'AMI_BINARY_PHENOTYPE', 'BDQ_BINARY_PHENOTYPE',\n",
       "       'CFZ_BINARY_PHENOTYPE', 'DLM_BINARY_PHENOTYPE', 'EMB_BINARY_PHENOTYPE',\n",
       "       'ETH_BINARY_PHENOTYPE', 'INH_BINARY_PHENOTYPE', 'KAN_BINARY_PHENOTYPE',\n",
       "       'LEV_BINARY_PHENOTYPE', 'LZD_BINARY_PHENOTYPE', 'MXF_BINARY_PHENOTYPE',\n",
       "       'RIF_BINARY_PHENOTYPE', 'RFB_BINARY_PHENOTYPE', 'AMI_MIC', 'BDQ_MIC',\n",
       "       'CFZ_MIC', 'DLM_MIC', 'EMB_MIC', 'ETH_MIC', 'INH_MIC', 'KAN_MIC',\n",
       "       'LEV_MIC', 'LZD_MIC', 'MXF_MIC', 'RIF_MIC', 'RFB_MIC',\n",
       "       'AMI_PHENOTYPE_QUALITY', 'BDQ_PHENOTYPE_QUALITY',\n",
       "       'CFZ_PHENOTYPE_QUALITY', 'EMB_PHENOTYPE_QUALITY',\n",
       "       'ETH_PHENOTYPE_QUALITY', 'INH_PHENOTYPE_QUALITY',\n",
       "       'KAN_PHENOTYPE_QUALITY', 'LEV_PHENOTYPE_QUALITY',\n",
       "       'LZD_PHENOTYPE_QUALITY', 'MXF_PHENOTYPE_QUALITY',\n",
       "       'RIF_PHENOTYPE_QUALITY', 'RFB_PHENOTYPE_QUALITY', 'ENA_SAMPLE', 'VCF',\n",
       "       'REGENOTYPED_VCF'],\n",
       "      dtype='object')"
      ]
     },
     "execution_count": 41,
     "metadata": {},
     "output_type": "execute_result"
    }
   ],
   "source": [
    "df.columns"
   ]
  },
  {
   "cell_type": "code",
   "execution_count": 42,
   "id": "840f94bd-30ce-4811-a47b-1f8bb8b67a4b",
   "metadata": {},
   "outputs": [
    {
     "data": {
      "text/html": [
       "<div>\n",
       "<style scoped>\n",
       "    .dataframe tbody tr th:only-of-type {\n",
       "        vertical-align: middle;\n",
       "    }\n",
       "\n",
       "    .dataframe tbody tr th {\n",
       "        vertical-align: top;\n",
       "    }\n",
       "\n",
       "    .dataframe thead th {\n",
       "        text-align: right;\n",
       "    }\n",
       "</style>\n",
       "<table border=\"1\" class=\"dataframe\">\n",
       "  <thead>\n",
       "    <tr style=\"text-align: right;\">\n",
       "      <th></th>\n",
       "      <th>LZD_BINARY_PHENOTYPE</th>\n",
       "      <th>VCF</th>\n",
       "      <th>LZD_PHENOTYPE_QUALITY</th>\n",
       "    </tr>\n",
       "  </thead>\n",
       "  <tbody>\n",
       "    <tr>\n",
       "      <th>0</th>\n",
       "      <td>S</td>\n",
       "      <td>00/01/08/61/10861/site.02.iso.1.subject.0001.l...</td>\n",
       "      <td>HIGH</td>\n",
       "    </tr>\n",
       "    <tr>\n",
       "      <th>1</th>\n",
       "      <td>S</td>\n",
       "      <td>00/01/08/63/10863/site.02.iso.1.subject.0002.l...</td>\n",
       "      <td>HIGH</td>\n",
       "    </tr>\n",
       "    <tr>\n",
       "      <th>2</th>\n",
       "      <td>S</td>\n",
       "      <td>00/01/08/67/10867/site.02.iso.1.subject.0004.l...</td>\n",
       "      <td>HIGH</td>\n",
       "    </tr>\n",
       "    <tr>\n",
       "      <th>3</th>\n",
       "      <td>S</td>\n",
       "      <td>00/01/08/68/10868/site.02.iso.1.subject.0005.l...</td>\n",
       "      <td>HIGH</td>\n",
       "    </tr>\n",
       "    <tr>\n",
       "      <th>4</th>\n",
       "      <td>S</td>\n",
       "      <td>00/01/08/69/10869/site.02.iso.1.subject.0006.l...</td>\n",
       "      <td>HIGH</td>\n",
       "    </tr>\n",
       "    <tr>\n",
       "      <th>...</th>\n",
       "      <td>...</td>\n",
       "      <td>...</td>\n",
       "      <td>...</td>\n",
       "    </tr>\n",
       "    <tr>\n",
       "      <th>1475</th>\n",
       "      <td>S</td>\n",
       "      <td>00/02/63/96/26396/site.03.iso.1.subject.GB-820...</td>\n",
       "      <td>HIGH</td>\n",
       "    </tr>\n",
       "    <tr>\n",
       "      <th>1476</th>\n",
       "      <td>S</td>\n",
       "      <td>00/03/12/27/31227/site.03.iso.1.subject.GB-821...</td>\n",
       "      <td>HIGH</td>\n",
       "    </tr>\n",
       "    <tr>\n",
       "      <th>1478</th>\n",
       "      <td>S</td>\n",
       "      <td>00/02/63/97/26397/site.03.iso.1.subject.GB-821...</td>\n",
       "      <td>HIGH</td>\n",
       "    </tr>\n",
       "    <tr>\n",
       "      <th>1480</th>\n",
       "      <td>S</td>\n",
       "      <td>00/02/63/98/26398/site.03.iso.1.subject.GB-822...</td>\n",
       "      <td>HIGH</td>\n",
       "    </tr>\n",
       "    <tr>\n",
       "      <th>1481</th>\n",
       "      <td>S</td>\n",
       "      <td>00/03/12/33/31233/site.03.iso.1.subject.GB-822...</td>\n",
       "      <td>HIGH</td>\n",
       "    </tr>\n",
       "  </tbody>\n",
       "</table>\n",
       "<p>1000 rows × 3 columns</p>\n",
       "</div>"
      ],
      "text/plain": [
       "     LZD_BINARY_PHENOTYPE                                                VCF  \\\n",
       "0                       S  00/01/08/61/10861/site.02.iso.1.subject.0001.l...   \n",
       "1                       S  00/01/08/63/10863/site.02.iso.1.subject.0002.l...   \n",
       "2                       S  00/01/08/67/10867/site.02.iso.1.subject.0004.l...   \n",
       "3                       S  00/01/08/68/10868/site.02.iso.1.subject.0005.l...   \n",
       "4                       S  00/01/08/69/10869/site.02.iso.1.subject.0006.l...   \n",
       "...                   ...                                                ...   \n",
       "1475                    S  00/02/63/96/26396/site.03.iso.1.subject.GB-820...   \n",
       "1476                    S  00/03/12/27/31227/site.03.iso.1.subject.GB-821...   \n",
       "1478                    S  00/02/63/97/26397/site.03.iso.1.subject.GB-821...   \n",
       "1480                    S  00/02/63/98/26398/site.03.iso.1.subject.GB-822...   \n",
       "1481                    S  00/03/12/33/31233/site.03.iso.1.subject.GB-822...   \n",
       "\n",
       "     LZD_PHENOTYPE_QUALITY  \n",
       "0                     HIGH  \n",
       "1                     HIGH  \n",
       "2                     HIGH  \n",
       "3                     HIGH  \n",
       "4                     HIGH  \n",
       "...                    ...  \n",
       "1475                  HIGH  \n",
       "1476                  HIGH  \n",
       "1478                  HIGH  \n",
       "1480                  HIGH  \n",
       "1481                  HIGH  \n",
       "\n",
       "[1000 rows x 3 columns]"
      ]
     },
     "execution_count": 42,
     "metadata": {},
     "output_type": "execute_result"
    }
   ],
   "source": [
    "df3"
   ]
  },
  {
   "cell_type": "code",
   "execution_count": 46,
   "id": "cac97358-6d24-46be-b6af-2bfd9eff5fd8",
   "metadata": {},
   "outputs": [
    {
     "data": {
      "text/plain": [
       "(array(['HIGH'], dtype=object), array(['S', 'R'], dtype=object))"
      ]
     },
     "execution_count": 46,
     "metadata": {},
     "output_type": "execute_result"
    }
   ],
   "source": [
    "# Susceptible or Resistant and \"HIGH\" quality\n",
    "df3[\"LZD_PHENOTYPE_QUALITY\"].unique(), df3[\"LZD_BINARY_PHENOTYPE\"].unique() # ensure class distribution = correct"
   ]
  },
  {
   "cell_type": "code",
   "execution_count": null,
   "id": "a7801131-6da2-47e0-829d-bd598416e460",
   "metadata": {},
   "outputs": [],
   "source": []
  },
  {
   "cell_type": "code",
   "execution_count": null,
   "id": "4f7e3dd5-a6ac-463c-8b64-890f0153b4e0",
   "metadata": {},
   "outputs": [],
   "source": []
  },
  {
   "cell_type": "code",
   "execution_count": null,
   "id": "d7176081-f278-48b8-a271-a3daf86d519a",
   "metadata": {},
   "outputs": [],
   "source": []
  },
  {
   "cell_type": "code",
   "execution_count": null,
   "id": "098b8af0-dd16-4b11-b1f9-3965f0dcabff",
   "metadata": {},
   "outputs": [],
   "source": []
  }
 ],
 "metadata": {
  "kernelspec": {
   "display_name": "Python 3 (ipykernel)",
   "language": "python",
   "name": "python3"
  },
  "language_info": {
   "codemirror_mode": {
    "name": "ipython",
    "version": 3
   },
   "file_extension": ".py",
   "mimetype": "text/x-python",
   "name": "python",
   "nbconvert_exporter": "python",
   "pygments_lexer": "ipython3",
   "version": "3.12.7"
  }
 },
 "nbformat": 4,
 "nbformat_minor": 5
}
