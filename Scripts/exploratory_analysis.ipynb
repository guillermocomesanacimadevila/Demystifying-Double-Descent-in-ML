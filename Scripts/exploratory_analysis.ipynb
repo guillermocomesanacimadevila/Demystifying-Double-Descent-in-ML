{
 "cells": [
  {
   "cell_type": "code",
   "execution_count": 1,
   "id": "7e1d0e56-0e28-4fac-8cac-e3c33ef00445",
   "metadata": {
    "tags": []
   },
   "outputs": [
    {
     "name": "stdout",
     "output_type": "stream",
     "text": [
      "Requirement already satisfied: pandas in /shared/team/conda/gcc46.workshopzi/bioinformatics/lib/python3.13/site-packages (2.2.3)\n",
      "Requirement already satisfied: matplotlib in /shared/team/conda/gcc46.workshopzi/bioinformatics/lib/python3.13/site-packages (3.10.1)\n",
      "Requirement already satisfied: numpy>=1.26.0 in /shared/team/conda/gcc46.workshopzi/bioinformatics/lib/python3.13/site-packages (from pandas) (2.2.3)\n",
      "Requirement already satisfied: python-dateutil>=2.8.2 in /shared/team/conda/gcc46.workshopzi/bioinformatics/lib/python3.13/site-packages (from pandas) (2.9.0.post0)\n",
      "Requirement already satisfied: pytz>=2020.1 in /shared/team/conda/gcc46.workshopzi/bioinformatics/lib/python3.13/site-packages (from pandas) (2025.1)\n",
      "Requirement already satisfied: tzdata>=2022.7 in /shared/team/conda/gcc46.workshopzi/bioinformatics/lib/python3.13/site-packages (from pandas) (2025.1)\n",
      "Requirement already satisfied: contourpy>=1.0.1 in /shared/team/conda/gcc46.workshopzi/bioinformatics/lib/python3.13/site-packages (from matplotlib) (1.3.1)\n",
      "Requirement already satisfied: cycler>=0.10 in /shared/team/conda/gcc46.workshopzi/bioinformatics/lib/python3.13/site-packages (from matplotlib) (0.12.1)\n",
      "Requirement already satisfied: fonttools>=4.22.0 in /shared/team/conda/gcc46.workshopzi/bioinformatics/lib/python3.13/site-packages (from matplotlib) (4.56.0)\n",
      "Requirement already satisfied: kiwisolver>=1.3.1 in /shared/team/conda/gcc46.workshopzi/bioinformatics/lib/python3.13/site-packages (from matplotlib) (1.4.8)\n",
      "Requirement already satisfied: packaging>=20.0 in /shared/team/conda/gcc46.workshopzi/bioinformatics/lib/python3.13/site-packages (from matplotlib) (24.2)\n",
      "Requirement already satisfied: pillow>=8 in /shared/team/conda/gcc46.workshopzi/bioinformatics/lib/python3.13/site-packages (from matplotlib) (11.1.0)\n",
      "Requirement already satisfied: pyparsing>=2.3.1 in /shared/team/conda/gcc46.workshopzi/bioinformatics/lib/python3.13/site-packages (from matplotlib) (3.2.1)\n",
      "Requirement already satisfied: six>=1.5 in /shared/team/conda/gcc46.workshopzi/bioinformatics/lib/python3.13/site-packages (from python-dateutil>=2.8.2->pandas) (1.17.0)\n"
     ]
    }
   ],
   "source": [
    "! pip install pandas matplotlib"
   ]
  },
  {
   "cell_type": "code",
   "execution_count": 2,
   "id": "084e7dc8-3978-4289-b76e-7996995aec6f",
   "metadata": {
    "tags": []
   },
   "outputs": [],
   "source": [
    "import os\n",
    "import pandas as pd\n",
    "import matplotlib.pyplot as plt"
   ]
  },
  {
   "cell_type": "code",
   "execution_count": 3,
   "id": "d187d9f9-8816-45d8-9885-f5fc53466af3",
   "metadata": {
    "tags": []
   },
   "outputs": [],
   "source": [
    "def parse_csv(location):\n",
    "    with open(os.path.expanduser(location), \"r\") as file:\n",
    "        return pd.read_csv(file, sep=\",\", index_col=0)"
   ]
  },
  {
   "cell_type": "code",
   "execution_count": 4,
   "id": "7d3dd433-dbd4-4554-8002-8d6a1297c278",
   "metadata": {
    "tags": []
   },
   "outputs": [],
   "source": [
    "metadata1 = parse_csv(\"/home/jovyan/DOUBLE_DESCENT/Data/CRyPTIC_reuse_table_20221019.csv\")"
   ]
  },
  {
   "cell_type": "code",
   "execution_count": 5,
   "id": "3bacf71b-b5ba-43e9-9faa-d2d0aec6588a",
   "metadata": {
    "tags": []
   },
   "outputs": [
    {
     "data": {
      "text/html": [
       "<div>\n",
       "<style scoped>\n",
       "    .dataframe tbody tr th:only-of-type {\n",
       "        vertical-align: middle;\n",
       "    }\n",
       "\n",
       "    .dataframe tbody tr th {\n",
       "        vertical-align: top;\n",
       "    }\n",
       "\n",
       "    .dataframe thead th {\n",
       "        text-align: right;\n",
       "    }\n",
       "</style>\n",
       "<table border=\"1\" class=\"dataframe\">\n",
       "  <thead>\n",
       "    <tr style=\"text-align: right;\">\n",
       "      <th></th>\n",
       "      <th>AMI_BINARY_PHENOTYPE</th>\n",
       "      <th>BDQ_BINARY_PHENOTYPE</th>\n",
       "      <th>CFZ_BINARY_PHENOTYPE</th>\n",
       "      <th>DLM_BINARY_PHENOTYPE</th>\n",
       "      <th>EMB_BINARY_PHENOTYPE</th>\n",
       "      <th>ETH_BINARY_PHENOTYPE</th>\n",
       "      <th>INH_BINARY_PHENOTYPE</th>\n",
       "      <th>KAN_BINARY_PHENOTYPE</th>\n",
       "      <th>LEV_BINARY_PHENOTYPE</th>\n",
       "      <th>LZD_BINARY_PHENOTYPE</th>\n",
       "      <th>...</th>\n",
       "      <th>INH_PHENOTYPE_QUALITY</th>\n",
       "      <th>KAN_PHENOTYPE_QUALITY</th>\n",
       "      <th>LEV_PHENOTYPE_QUALITY</th>\n",
       "      <th>LZD_PHENOTYPE_QUALITY</th>\n",
       "      <th>MXF_PHENOTYPE_QUALITY</th>\n",
       "      <th>RIF_PHENOTYPE_QUALITY</th>\n",
       "      <th>RFB_PHENOTYPE_QUALITY</th>\n",
       "      <th>ENA_SAMPLE</th>\n",
       "      <th>VCF</th>\n",
       "      <th>REGENOTYPED_VCF</th>\n",
       "    </tr>\n",
       "    <tr>\n",
       "      <th>UNIQUEID</th>\n",
       "      <th></th>\n",
       "      <th></th>\n",
       "      <th></th>\n",
       "      <th></th>\n",
       "      <th></th>\n",
       "      <th></th>\n",
       "      <th></th>\n",
       "      <th></th>\n",
       "      <th></th>\n",
       "      <th></th>\n",
       "      <th></th>\n",
       "      <th></th>\n",
       "      <th></th>\n",
       "      <th></th>\n",
       "      <th></th>\n",
       "      <th></th>\n",
       "      <th></th>\n",
       "      <th></th>\n",
       "      <th></th>\n",
       "      <th></th>\n",
       "      <th></th>\n",
       "    </tr>\n",
       "  </thead>\n",
       "  <tbody>\n",
       "    <tr>\n",
       "      <th>site.02.subj.0001.lab.2014222001.iso.1</th>\n",
       "      <td>S</td>\n",
       "      <td>NaN</td>\n",
       "      <td>S</td>\n",
       "      <td>S</td>\n",
       "      <td>S</td>\n",
       "      <td>S</td>\n",
       "      <td>S</td>\n",
       "      <td>S</td>\n",
       "      <td>S</td>\n",
       "      <td>S</td>\n",
       "      <td>...</td>\n",
       "      <td>HIGH</td>\n",
       "      <td>HIGH</td>\n",
       "      <td>HIGH</td>\n",
       "      <td>HIGH</td>\n",
       "      <td>HIGH</td>\n",
       "      <td>HIGH</td>\n",
       "      <td>HIGH</td>\n",
       "      <td>ERS5298516</td>\n",
       "      <td>00/01/08/61/10861/site.02.iso.1.subject.0001.l...</td>\n",
       "      <td>00/01/08/61/10861/site.02.iso.1.subject.0001.l...</td>\n",
       "    </tr>\n",
       "    <tr>\n",
       "      <th>site.02.subj.0002.lab.2014222005.iso.1</th>\n",
       "      <td>S</td>\n",
       "      <td>S</td>\n",
       "      <td>S</td>\n",
       "      <td>S</td>\n",
       "      <td>S</td>\n",
       "      <td>S</td>\n",
       "      <td>S</td>\n",
       "      <td>S</td>\n",
       "      <td>S</td>\n",
       "      <td>S</td>\n",
       "      <td>...</td>\n",
       "      <td>HIGH</td>\n",
       "      <td>HIGH</td>\n",
       "      <td>HIGH</td>\n",
       "      <td>HIGH</td>\n",
       "      <td>LOW</td>\n",
       "      <td>HIGH</td>\n",
       "      <td>HIGH</td>\n",
       "      <td>ERS5298518</td>\n",
       "      <td>00/01/08/63/10863/site.02.iso.1.subject.0002.l...</td>\n",
       "      <td>00/01/08/63/10863/site.02.iso.1.subject.0002.l...</td>\n",
       "    </tr>\n",
       "    <tr>\n",
       "      <th>site.02.subj.0004.lab.2014222010.iso.1</th>\n",
       "      <td>S</td>\n",
       "      <td>S</td>\n",
       "      <td>S</td>\n",
       "      <td>NaN</td>\n",
       "      <td>S</td>\n",
       "      <td>I</td>\n",
       "      <td>S</td>\n",
       "      <td>S</td>\n",
       "      <td>S</td>\n",
       "      <td>S</td>\n",
       "      <td>...</td>\n",
       "      <td>HIGH</td>\n",
       "      <td>HIGH</td>\n",
       "      <td>HIGH</td>\n",
       "      <td>HIGH</td>\n",
       "      <td>HIGH</td>\n",
       "      <td>HIGH</td>\n",
       "      <td>HIGH</td>\n",
       "      <td>ERS5298520</td>\n",
       "      <td>00/01/08/67/10867/site.02.iso.1.subject.0004.l...</td>\n",
       "      <td>00/01/08/67/10867/site.02.iso.1.subject.0004.l...</td>\n",
       "    </tr>\n",
       "    <tr>\n",
       "      <th>site.02.subj.0005.lab.2014222011.iso.1</th>\n",
       "      <td>S</td>\n",
       "      <td>S</td>\n",
       "      <td>S</td>\n",
       "      <td>S</td>\n",
       "      <td>S</td>\n",
       "      <td>S</td>\n",
       "      <td>S</td>\n",
       "      <td>S</td>\n",
       "      <td>S</td>\n",
       "      <td>S</td>\n",
       "      <td>...</td>\n",
       "      <td>HIGH</td>\n",
       "      <td>HIGH</td>\n",
       "      <td>HIGH</td>\n",
       "      <td>HIGH</td>\n",
       "      <td>HIGH</td>\n",
       "      <td>HIGH</td>\n",
       "      <td>HIGH</td>\n",
       "      <td>ERS5298521</td>\n",
       "      <td>00/01/08/68/10868/site.02.iso.1.subject.0005.l...</td>\n",
       "      <td>00/01/08/68/10868/site.02.iso.1.subject.0005.l...</td>\n",
       "    </tr>\n",
       "    <tr>\n",
       "      <th>site.02.subj.0006.lab.2014222013.iso.1</th>\n",
       "      <td>S</td>\n",
       "      <td>S</td>\n",
       "      <td>S</td>\n",
       "      <td>S</td>\n",
       "      <td>S</td>\n",
       "      <td>S</td>\n",
       "      <td>S</td>\n",
       "      <td>S</td>\n",
       "      <td>S</td>\n",
       "      <td>S</td>\n",
       "      <td>...</td>\n",
       "      <td>HIGH</td>\n",
       "      <td>HIGH</td>\n",
       "      <td>HIGH</td>\n",
       "      <td>HIGH</td>\n",
       "      <td>HIGH</td>\n",
       "      <td>HIGH</td>\n",
       "      <td>HIGH</td>\n",
       "      <td>ERS5298522</td>\n",
       "      <td>00/01/08/69/10869/site.02.iso.1.subject.0006.l...</td>\n",
       "      <td>00/01/08/69/10869/site.02.iso.1.subject.0006.l...</td>\n",
       "    </tr>\n",
       "  </tbody>\n",
       "</table>\n",
       "<p>5 rows × 41 columns</p>\n",
       "</div>"
      ],
      "text/plain": [
       "                                       AMI_BINARY_PHENOTYPE  \\\n",
       "UNIQUEID                                                      \n",
       "site.02.subj.0001.lab.2014222001.iso.1                    S   \n",
       "site.02.subj.0002.lab.2014222005.iso.1                    S   \n",
       "site.02.subj.0004.lab.2014222010.iso.1                    S   \n",
       "site.02.subj.0005.lab.2014222011.iso.1                    S   \n",
       "site.02.subj.0006.lab.2014222013.iso.1                    S   \n",
       "\n",
       "                                       BDQ_BINARY_PHENOTYPE  \\\n",
       "UNIQUEID                                                      \n",
       "site.02.subj.0001.lab.2014222001.iso.1                  NaN   \n",
       "site.02.subj.0002.lab.2014222005.iso.1                    S   \n",
       "site.02.subj.0004.lab.2014222010.iso.1                    S   \n",
       "site.02.subj.0005.lab.2014222011.iso.1                    S   \n",
       "site.02.subj.0006.lab.2014222013.iso.1                    S   \n",
       "\n",
       "                                       CFZ_BINARY_PHENOTYPE  \\\n",
       "UNIQUEID                                                      \n",
       "site.02.subj.0001.lab.2014222001.iso.1                    S   \n",
       "site.02.subj.0002.lab.2014222005.iso.1                    S   \n",
       "site.02.subj.0004.lab.2014222010.iso.1                    S   \n",
       "site.02.subj.0005.lab.2014222011.iso.1                    S   \n",
       "site.02.subj.0006.lab.2014222013.iso.1                    S   \n",
       "\n",
       "                                       DLM_BINARY_PHENOTYPE  \\\n",
       "UNIQUEID                                                      \n",
       "site.02.subj.0001.lab.2014222001.iso.1                    S   \n",
       "site.02.subj.0002.lab.2014222005.iso.1                    S   \n",
       "site.02.subj.0004.lab.2014222010.iso.1                  NaN   \n",
       "site.02.subj.0005.lab.2014222011.iso.1                    S   \n",
       "site.02.subj.0006.lab.2014222013.iso.1                    S   \n",
       "\n",
       "                                       EMB_BINARY_PHENOTYPE  \\\n",
       "UNIQUEID                                                      \n",
       "site.02.subj.0001.lab.2014222001.iso.1                    S   \n",
       "site.02.subj.0002.lab.2014222005.iso.1                    S   \n",
       "site.02.subj.0004.lab.2014222010.iso.1                    S   \n",
       "site.02.subj.0005.lab.2014222011.iso.1                    S   \n",
       "site.02.subj.0006.lab.2014222013.iso.1                    S   \n",
       "\n",
       "                                       ETH_BINARY_PHENOTYPE  \\\n",
       "UNIQUEID                                                      \n",
       "site.02.subj.0001.lab.2014222001.iso.1                    S   \n",
       "site.02.subj.0002.lab.2014222005.iso.1                    S   \n",
       "site.02.subj.0004.lab.2014222010.iso.1                    I   \n",
       "site.02.subj.0005.lab.2014222011.iso.1                    S   \n",
       "site.02.subj.0006.lab.2014222013.iso.1                    S   \n",
       "\n",
       "                                       INH_BINARY_PHENOTYPE  \\\n",
       "UNIQUEID                                                      \n",
       "site.02.subj.0001.lab.2014222001.iso.1                    S   \n",
       "site.02.subj.0002.lab.2014222005.iso.1                    S   \n",
       "site.02.subj.0004.lab.2014222010.iso.1                    S   \n",
       "site.02.subj.0005.lab.2014222011.iso.1                    S   \n",
       "site.02.subj.0006.lab.2014222013.iso.1                    S   \n",
       "\n",
       "                                       KAN_BINARY_PHENOTYPE  \\\n",
       "UNIQUEID                                                      \n",
       "site.02.subj.0001.lab.2014222001.iso.1                    S   \n",
       "site.02.subj.0002.lab.2014222005.iso.1                    S   \n",
       "site.02.subj.0004.lab.2014222010.iso.1                    S   \n",
       "site.02.subj.0005.lab.2014222011.iso.1                    S   \n",
       "site.02.subj.0006.lab.2014222013.iso.1                    S   \n",
       "\n",
       "                                       LEV_BINARY_PHENOTYPE  \\\n",
       "UNIQUEID                                                      \n",
       "site.02.subj.0001.lab.2014222001.iso.1                    S   \n",
       "site.02.subj.0002.lab.2014222005.iso.1                    S   \n",
       "site.02.subj.0004.lab.2014222010.iso.1                    S   \n",
       "site.02.subj.0005.lab.2014222011.iso.1                    S   \n",
       "site.02.subj.0006.lab.2014222013.iso.1                    S   \n",
       "\n",
       "                                       LZD_BINARY_PHENOTYPE  ...  \\\n",
       "UNIQUEID                                                     ...   \n",
       "site.02.subj.0001.lab.2014222001.iso.1                    S  ...   \n",
       "site.02.subj.0002.lab.2014222005.iso.1                    S  ...   \n",
       "site.02.subj.0004.lab.2014222010.iso.1                    S  ...   \n",
       "site.02.subj.0005.lab.2014222011.iso.1                    S  ...   \n",
       "site.02.subj.0006.lab.2014222013.iso.1                    S  ...   \n",
       "\n",
       "                                       INH_PHENOTYPE_QUALITY  \\\n",
       "UNIQUEID                                                       \n",
       "site.02.subj.0001.lab.2014222001.iso.1                  HIGH   \n",
       "site.02.subj.0002.lab.2014222005.iso.1                  HIGH   \n",
       "site.02.subj.0004.lab.2014222010.iso.1                  HIGH   \n",
       "site.02.subj.0005.lab.2014222011.iso.1                  HIGH   \n",
       "site.02.subj.0006.lab.2014222013.iso.1                  HIGH   \n",
       "\n",
       "                                       KAN_PHENOTYPE_QUALITY  \\\n",
       "UNIQUEID                                                       \n",
       "site.02.subj.0001.lab.2014222001.iso.1                  HIGH   \n",
       "site.02.subj.0002.lab.2014222005.iso.1                  HIGH   \n",
       "site.02.subj.0004.lab.2014222010.iso.1                  HIGH   \n",
       "site.02.subj.0005.lab.2014222011.iso.1                  HIGH   \n",
       "site.02.subj.0006.lab.2014222013.iso.1                  HIGH   \n",
       "\n",
       "                                       LEV_PHENOTYPE_QUALITY  \\\n",
       "UNIQUEID                                                       \n",
       "site.02.subj.0001.lab.2014222001.iso.1                  HIGH   \n",
       "site.02.subj.0002.lab.2014222005.iso.1                  HIGH   \n",
       "site.02.subj.0004.lab.2014222010.iso.1                  HIGH   \n",
       "site.02.subj.0005.lab.2014222011.iso.1                  HIGH   \n",
       "site.02.subj.0006.lab.2014222013.iso.1                  HIGH   \n",
       "\n",
       "                                       LZD_PHENOTYPE_QUALITY  \\\n",
       "UNIQUEID                                                       \n",
       "site.02.subj.0001.lab.2014222001.iso.1                  HIGH   \n",
       "site.02.subj.0002.lab.2014222005.iso.1                  HIGH   \n",
       "site.02.subj.0004.lab.2014222010.iso.1                  HIGH   \n",
       "site.02.subj.0005.lab.2014222011.iso.1                  HIGH   \n",
       "site.02.subj.0006.lab.2014222013.iso.1                  HIGH   \n",
       "\n",
       "                                       MXF_PHENOTYPE_QUALITY  \\\n",
       "UNIQUEID                                                       \n",
       "site.02.subj.0001.lab.2014222001.iso.1                  HIGH   \n",
       "site.02.subj.0002.lab.2014222005.iso.1                   LOW   \n",
       "site.02.subj.0004.lab.2014222010.iso.1                  HIGH   \n",
       "site.02.subj.0005.lab.2014222011.iso.1                  HIGH   \n",
       "site.02.subj.0006.lab.2014222013.iso.1                  HIGH   \n",
       "\n",
       "                                       RIF_PHENOTYPE_QUALITY  \\\n",
       "UNIQUEID                                                       \n",
       "site.02.subj.0001.lab.2014222001.iso.1                  HIGH   \n",
       "site.02.subj.0002.lab.2014222005.iso.1                  HIGH   \n",
       "site.02.subj.0004.lab.2014222010.iso.1                  HIGH   \n",
       "site.02.subj.0005.lab.2014222011.iso.1                  HIGH   \n",
       "site.02.subj.0006.lab.2014222013.iso.1                  HIGH   \n",
       "\n",
       "                                       RFB_PHENOTYPE_QUALITY  ENA_SAMPLE  \\\n",
       "UNIQUEID                                                                   \n",
       "site.02.subj.0001.lab.2014222001.iso.1                  HIGH  ERS5298516   \n",
       "site.02.subj.0002.lab.2014222005.iso.1                  HIGH  ERS5298518   \n",
       "site.02.subj.0004.lab.2014222010.iso.1                  HIGH  ERS5298520   \n",
       "site.02.subj.0005.lab.2014222011.iso.1                  HIGH  ERS5298521   \n",
       "site.02.subj.0006.lab.2014222013.iso.1                  HIGH  ERS5298522   \n",
       "\n",
       "                                                                                      VCF  \\\n",
       "UNIQUEID                                                                                    \n",
       "site.02.subj.0001.lab.2014222001.iso.1  00/01/08/61/10861/site.02.iso.1.subject.0001.l...   \n",
       "site.02.subj.0002.lab.2014222005.iso.1  00/01/08/63/10863/site.02.iso.1.subject.0002.l...   \n",
       "site.02.subj.0004.lab.2014222010.iso.1  00/01/08/67/10867/site.02.iso.1.subject.0004.l...   \n",
       "site.02.subj.0005.lab.2014222011.iso.1  00/01/08/68/10868/site.02.iso.1.subject.0005.l...   \n",
       "site.02.subj.0006.lab.2014222013.iso.1  00/01/08/69/10869/site.02.iso.1.subject.0006.l...   \n",
       "\n",
       "                                                                          REGENOTYPED_VCF  \n",
       "UNIQUEID                                                                                   \n",
       "site.02.subj.0001.lab.2014222001.iso.1  00/01/08/61/10861/site.02.iso.1.subject.0001.l...  \n",
       "site.02.subj.0002.lab.2014222005.iso.1  00/01/08/63/10863/site.02.iso.1.subject.0002.l...  \n",
       "site.02.subj.0004.lab.2014222010.iso.1  00/01/08/67/10867/site.02.iso.1.subject.0004.l...  \n",
       "site.02.subj.0005.lab.2014222011.iso.1  00/01/08/68/10868/site.02.iso.1.subject.0005.l...  \n",
       "site.02.subj.0006.lab.2014222013.iso.1  00/01/08/69/10869/site.02.iso.1.subject.0006.l...  \n",
       "\n",
       "[5 rows x 41 columns]"
      ]
     },
     "execution_count": 5,
     "metadata": {},
     "output_type": "execute_result"
    }
   ],
   "source": [
    "metadata1.head(n=5)"
   ]
  },
  {
   "cell_type": "code",
   "execution_count": 6,
   "id": "98ec52a5-5ade-4d78-b14c-d110f34a871a",
   "metadata": {
    "tags": []
   },
   "outputs": [
    {
     "data": {
      "text/plain": [
       "Index(['AMI_BINARY_PHENOTYPE', 'BDQ_BINARY_PHENOTYPE', 'CFZ_BINARY_PHENOTYPE',\n",
       "       'DLM_BINARY_PHENOTYPE', 'EMB_BINARY_PHENOTYPE', 'ETH_BINARY_PHENOTYPE',\n",
       "       'INH_BINARY_PHENOTYPE', 'KAN_BINARY_PHENOTYPE', 'LEV_BINARY_PHENOTYPE',\n",
       "       'LZD_BINARY_PHENOTYPE', 'MXF_BINARY_PHENOTYPE', 'RIF_BINARY_PHENOTYPE',\n",
       "       'RFB_BINARY_PHENOTYPE', 'AMI_MIC', 'BDQ_MIC', 'CFZ_MIC', 'DLM_MIC',\n",
       "       'EMB_MIC', 'ETH_MIC', 'INH_MIC', 'KAN_MIC', 'LEV_MIC', 'LZD_MIC',\n",
       "       'MXF_MIC', 'RIF_MIC', 'RFB_MIC', 'AMI_PHENOTYPE_QUALITY',\n",
       "       'BDQ_PHENOTYPE_QUALITY', 'CFZ_PHENOTYPE_QUALITY',\n",
       "       'EMB_PHENOTYPE_QUALITY', 'ETH_PHENOTYPE_QUALITY',\n",
       "       'INH_PHENOTYPE_QUALITY', 'KAN_PHENOTYPE_QUALITY',\n",
       "       'LEV_PHENOTYPE_QUALITY', 'LZD_PHENOTYPE_QUALITY',\n",
       "       'MXF_PHENOTYPE_QUALITY', 'RIF_PHENOTYPE_QUALITY',\n",
       "       'RFB_PHENOTYPE_QUALITY', 'ENA_SAMPLE', 'VCF', 'REGENOTYPED_VCF'],\n",
       "      dtype='object')"
      ]
     },
     "execution_count": 6,
     "metadata": {},
     "output_type": "execute_result"
    }
   ],
   "source": [
    "metadata1.columns"
   ]
  },
  {
   "cell_type": "code",
   "execution_count": 11,
   "id": "22133a0a-481a-41ec-9d50-6024086d2eca",
   "metadata": {
    "tags": []
   },
   "outputs": [
    {
     "data": {
      "text/plain": [
       "UNIQUEID\n",
       "site.02.subj.0001.lab.2014222001.iso.1          00/01/08/61/10861/site.02.iso.1.subject.0001.l...\n",
       "site.02.subj.0002.lab.2014222005.iso.1          00/01/08/63/10863/site.02.iso.1.subject.0002.l...\n",
       "site.02.subj.0004.lab.2014222010.iso.1          00/01/08/67/10867/site.02.iso.1.subject.0004.l...\n",
       "site.02.subj.0005.lab.2014222011.iso.1          00/01/08/68/10868/site.02.iso.1.subject.0005.l...\n",
       "site.02.subj.0006.lab.2014222013.iso.1          00/01/08/69/10869/site.02.iso.1.subject.0006.l...\n",
       "                                                                      ...                        \n",
       "site.20.subj.SCH8604398.lab.YA00134621.iso.1    00/02/83/85/28385/site.20.iso.1.subject.SCH860...\n",
       "site.20.subj.SCH8604399.lab.YA00134971.iso.1    00/02/84/35/28435/site.20.iso.1.subject.SCH860...\n",
       "site.20.subj.SCH8608291.lab.YA00135762.iso.1    00/02/85/60/28560/site.20.iso.1.subject.SCH860...\n",
       "site.20.subj.SCH8608295.lab.YA00134623.iso.1    00/02/83/86/28386/site.20.iso.1.subject.SCH860...\n",
       "site.20.subj.SCH8612323.lab.YA00134624.iso.1    00/02/83/87/28387/site.20.iso.1.subject.SCH861...\n",
       "Name: REGENOTYPED_VCF, Length: 12288, dtype: object"
      ]
     },
     "execution_count": 11,
     "metadata": {},
     "output_type": "execute_result"
    }
   ],
   "source": [
    "metadata1[\"REGENOTYPED_VCF\"]"
   ]
  },
  {
   "cell_type": "code",
   "execution_count": 7,
   "id": "11fe3e9f-331b-47e1-9f66-74fde570ebad",
   "metadata": {
    "tags": []
   },
   "outputs": [],
   "source": [
    "metadata1 = metadata1[[\"LZD_BINARY_PHENOTYPE\", \n",
    "                       \"LZD_PHENOTYPE_QUALITY\",\n",
    "                       \"REGENOTYPED_VCF\"]]"
   ]
  },
  {
   "cell_type": "code",
   "execution_count": 8,
   "id": "8c64e676-e03d-4f29-9283-b6f9d816ee9b",
   "metadata": {
    "tags": []
   },
   "outputs": [],
   "source": [
    "metadata1 = metadata1.rename(columns = {\"REGENOTYPED_VCF\": \"VCF\"})"
   ]
  },
  {
   "cell_type": "code",
   "execution_count": 9,
   "id": "3dd5c56a-c98e-4255-953e-64c94168d02e",
   "metadata": {
    "tags": []
   },
   "outputs": [
    {
     "data": {
      "text/plain": [
       "Index(['LZD_BINARY_PHENOTYPE', 'LZD_PHENOTYPE_QUALITY', 'VCF'], dtype='object')"
      ]
     },
     "execution_count": 9,
     "metadata": {},
     "output_type": "execute_result"
    }
   ],
   "source": [
    "metadata1.columns"
   ]
  },
  {
   "cell_type": "code",
   "execution_count": 10,
   "id": "0c50d1bf-e0af-40ca-b4d3-397921889dc8",
   "metadata": {
    "tags": []
   },
   "outputs": [
    {
     "data": {
      "text/plain": [
       "5147"
      ]
     },
     "execution_count": 10,
     "metadata": {},
     "output_type": "execute_result"
    }
   ],
   "source": [
    "len([i for i in metadata1[\"LZD_PHENOTYPE_QUALITY\"] if i != \"HIGH\"])"
   ]
  },
  {
   "cell_type": "code",
   "execution_count": 11,
   "id": "8aba817f-0a8a-4f06-b927-45c8ec28a894",
   "metadata": {
    "tags": []
   },
   "outputs": [],
   "source": [
    "metadata1 = metadata1.loc[~metadata1[\"LZD_BINARY_PHENOTYPE\"].isnull()]"
   ]
  },
  {
   "cell_type": "code",
   "execution_count": 12,
   "id": "3d12b2e1-0428-424c-93c6-8e504e346a10",
   "metadata": {
    "tags": []
   },
   "outputs": [
    {
     "data": {
      "text/plain": [
       "LZD_BINARY_PHENOTYPE     0\n",
       "LZD_PHENOTYPE_QUALITY    0\n",
       "VCF                      0\n",
       "dtype: int64"
      ]
     },
     "execution_count": 12,
     "metadata": {},
     "output_type": "execute_result"
    }
   ],
   "source": [
    "metadata1.isna().sum()"
   ]
  },
  {
   "cell_type": "code",
   "execution_count": 13,
   "id": "d24b4c0f-af19-4d76-8cc9-6b4f3b9f5945",
   "metadata": {
    "tags": []
   },
   "outputs": [
    {
     "data": {
      "text/plain": [
       "(12188, 3)"
      ]
     },
     "execution_count": 13,
     "metadata": {},
     "output_type": "execute_result"
    }
   ],
   "source": [
    "metadata1.shape"
   ]
  },
  {
   "cell_type": "code",
   "execution_count": 14,
   "id": "c84ee88c-029e-4409-881b-2627a01ae53a",
   "metadata": {
    "tags": []
   },
   "outputs": [
    {
     "data": {
      "text/plain": [
       "array(['HIGH', 'LOW', 'MEDIUM'], dtype=object)"
      ]
     },
     "execution_count": 14,
     "metadata": {},
     "output_type": "execute_result"
    }
   ],
   "source": [
    "metadata1[\"LZD_PHENOTYPE_QUALITY\"].unique()"
   ]
  },
  {
   "cell_type": "code",
   "execution_count": 15,
   "id": "edc8472f-e7d8-4cdc-9748-a279a53f2fcf",
   "metadata": {
    "tags": []
   },
   "outputs": [],
   "source": [
    "metadata1 = metadata1.loc[metadata1[\"LZD_PHENOTYPE_QUALITY\"] == \"HIGH\"]"
   ]
  },
  {
   "cell_type": "code",
   "execution_count": 16,
   "id": "67fa21ef-a919-4c7d-b49e-826ea7c9ada9",
   "metadata": {
    "tags": []
   },
   "outputs": [
    {
     "data": {
      "text/plain": [
       "(7141, 3)"
      ]
     },
     "execution_count": 16,
     "metadata": {},
     "output_type": "execute_result"
    }
   ],
   "source": [
    "metadata1.shape"
   ]
  },
  {
   "cell_type": "code",
   "execution_count": 17,
   "id": "b10f3ae4-8f03-415f-8609-1f072eb92233",
   "metadata": {
    "tags": []
   },
   "outputs": [
    {
     "name": "stdout",
     "output_type": "stream",
     "text": [
      "7065\n"
     ]
    }
   ],
   "source": [
    "print(len([i for i in metadata1[\"LZD_BINARY_PHENOTYPE\"] if i == \"S\"]))"
   ]
  },
  {
   "cell_type": "code",
   "execution_count": 18,
   "id": "3f70fbb6-6565-4e33-a6e0-a9921c2635c5",
   "metadata": {
    "tags": []
   },
   "outputs": [
    {
     "name": "stdout",
     "output_type": "stream",
     "text": [
      "76\n"
     ]
    }
   ],
   "source": [
    "print(len([i for i in metadata1[\"LZD_BINARY_PHENOTYPE\"] if i == \"R\"]))"
   ]
  },
  {
   "cell_type": "markdown",
   "id": "8bfabc4d-6417-448d-85f7-2a4df7cd0e3f",
   "metadata": {},
   "source": [
    "### DataFrame Separation of Resistant and Susceptible VCFs"
   ]
  },
  {
   "cell_type": "code",
   "execution_count": 19,
   "id": "a9310345-622a-4aec-8763-4a3b87956727",
   "metadata": {
    "tags": []
   },
   "outputs": [],
   "source": [
    "df = metadata1.loc[metadata1[\"LZD_BINARY_PHENOTYPE\"] == \"S\"]"
   ]
  },
  {
   "cell_type": "code",
   "execution_count": 20,
   "id": "5bb6b2c7-0341-40e0-8d06-1c94b8089103",
   "metadata": {
    "tags": []
   },
   "outputs": [],
   "source": [
    "df2 = metadata1.loc[metadata1[\"LZD_BINARY_PHENOTYPE\"] == \"R\"]"
   ]
  },
  {
   "cell_type": "code",
   "execution_count": 21,
   "id": "3bdfdd16-58e6-4415-8587-dcb625a152f0",
   "metadata": {
    "tags": []
   },
   "outputs": [
    {
     "data": {
      "text/plain": [
       "((7065, 3), (76, 3))"
      ]
     },
     "execution_count": 21,
     "metadata": {},
     "output_type": "execute_result"
    }
   ],
   "source": [
    "df.shape, df2.shape"
   ]
  },
  {
   "cell_type": "code",
   "execution_count": 22,
   "id": "2251a5ac-5987-4b55-ab94-7fddc2d7c86c",
   "metadata": {
    "tags": []
   },
   "outputs": [],
   "source": [
    "df = df.head(n=424)"
   ]
  },
  {
   "cell_type": "code",
   "execution_count": 23,
   "id": "0a4e6850-0cf5-467a-a876-11a832490489",
   "metadata": {
    "tags": []
   },
   "outputs": [
    {
     "data": {
      "text/plain": [
       "500"
      ]
     },
     "execution_count": 23,
     "metadata": {},
     "output_type": "execute_result"
    }
   ],
   "source": [
    "df.shape[0] + df2.shape[0]"
   ]
  },
  {
   "cell_type": "code",
   "execution_count": 48,
   "id": "77852ac6-462f-4667-ac1d-d18db3e622a0",
   "metadata": {
    "tags": []
   },
   "outputs": [],
   "source": [
    "df.to_csv(\"susceptible_samples.csv\", header=True, sep=\",\", index=False)\n",
    "df2.to_csv(\"resistant_samples.csv\", header=True, sep=\",\", index=False)"
   ]
  }
 ],
 "metadata": {
  "kernelspec": {
   "display_name": "Python [conda env:bioinformatics]",
   "language": "python",
   "name": "conda-env-bioinformatics-py"
  },
  "language_info": {
   "codemirror_mode": {
    "name": "ipython",
    "version": 3
   },
   "file_extension": ".py",
   "mimetype": "text/x-python",
   "name": "python",
   "nbconvert_exporter": "python",
   "pygments_lexer": "ipython3",
   "version": "3.13.2"
  }
 },
 "nbformat": 4,
 "nbformat_minor": 5
}
