{
 "cells": [
  {
   "cell_type": "code",
   "execution_count": 1,
   "id": "2a5ff649-3281-480d-b6bb-fde8c8e60c4b",
   "metadata": {},
   "outputs": [],
   "source": [
    "# Data Manipulation\n",
    "import os\n",
    "import pandas as pd\n",
    "import numpy as np\n",
    "\n",
    "# Data Visualisation\n",
    "import matplotlib.pyplot as plt\n",
    "import seaborn as sns\n",
    "\n",
    "# ML Regression\n",
    "from sklearn.model_selection import train_test_split\n",
    "from sklearn.linear_model import LinearRegression\n",
    "from sklearn.metrics import r2_score, mean_squared_error"
   ]
  },
  {
   "cell_type": "code",
   "execution_count": 2,
   "id": "1f388c71-b4e3-4920-83c2-bd67276dd6dc",
   "metadata": {},
   "outputs": [],
   "source": [
    "def parse_csv(location):\n",
    "    with open(os.path.expanduser(location), \"r\") as file:\n",
    "        return pd.read_csv(location, sep=\",\")\n",
    "\n",
    "def common_snps(exp, out):\n",
    "    common_snps = set(exp[\"SNP\"]).intersection(set(out[\"SNP\"]))\n",
    "    return list(common_snps)"
   ]
  },
  {
   "cell_type": "code",
   "execution_count": 3,
   "id": "c17a3ffd-41c0-4a76-8ea1-733054f17247",
   "metadata": {},
   "outputs": [],
   "source": [
    "df = parse_csv(\"/Users/guillermocomesanacimadevila/Desktop/TC_GWAS.csv\")"
   ]
  },
  {
   "cell_type": "code",
   "execution_count": 4,
   "id": "6db016e3-9900-47ea-a952-8199aa2dced2",
   "metadata": {},
   "outputs": [
    {
     "data": {
      "text/plain": [
       "(8875, 8)"
      ]
     },
     "execution_count": 4,
     "metadata": {},
     "output_type": "execute_result"
    }
   ],
   "source": [
    "df.shape"
   ]
  },
  {
   "cell_type": "code",
   "execution_count": 5,
   "id": "a606c0c4-dc61-4e05-b157-6a687355ad4d",
   "metadata": {
    "scrolled": true
   },
   "outputs": [
    {
     "data": {
      "text/html": [
       "<div>\n",
       "<style scoped>\n",
       "    .dataframe tbody tr th:only-of-type {\n",
       "        vertical-align: middle;\n",
       "    }\n",
       "\n",
       "    .dataframe tbody tr th {\n",
       "        vertical-align: top;\n",
       "    }\n",
       "\n",
       "    .dataframe thead th {\n",
       "        text-align: right;\n",
       "    }\n",
       "</style>\n",
       "<table border=\"1\" class=\"dataframe\">\n",
       "  <thead>\n",
       "    <tr style=\"text-align: right;\">\n",
       "      <th></th>\n",
       "      <th>Unnamed: 0</th>\n",
       "      <th>SNP</th>\n",
       "      <th>Position</th>\n",
       "      <th>Mapped Genes</th>\n",
       "      <th>MAF</th>\n",
       "      <th>Beta</th>\n",
       "      <th>CI</th>\n",
       "      <th>pValue</th>\n",
       "    </tr>\n",
       "  </thead>\n",
       "  <tbody>\n",
       "    <tr>\n",
       "      <th>0</th>\n",
       "      <td>0</td>\n",
       "      <td>rs660240-T</td>\n",
       "      <td>1:109275216</td>\n",
       "      <td>CELSR2</td>\n",
       "      <td>0.215342</td>\n",
       "      <td>0.0407522</td>\n",
       "      <td>[0.029-0.052]</td>\n",
       "      <td>2.000000e-12</td>\n",
       "    </tr>\n",
       "    <tr>\n",
       "      <th>1</th>\n",
       "      <td>1</td>\n",
       "      <td>rs668948-G</td>\n",
       "      <td>2:21068657</td>\n",
       "      <td>TDRD15,APOB</td>\n",
       "      <td>0.179767</td>\n",
       "      <td>0.0596676</td>\n",
       "      <td>[0.048-0.072]</td>\n",
       "      <td>5.000000e-22</td>\n",
       "    </tr>\n",
       "    <tr>\n",
       "      <th>2</th>\n",
       "      <td>2</td>\n",
       "      <td>rs146534110-T</td>\n",
       "      <td>6:160157037</td>\n",
       "      <td>SLC22A1</td>\n",
       "      <td>0.0134888</td>\n",
       "      <td>0.148371</td>\n",
       "      <td>[0.11-0.19]</td>\n",
       "      <td>6.000000e-13</td>\n",
       "    </tr>\n",
       "    <tr>\n",
       "      <th>3</th>\n",
       "      <td>3</td>\n",
       "      <td>rs117733303-G</td>\n",
       "      <td>6:160501838</td>\n",
       "      <td>LPAL2</td>\n",
       "      <td>0.0178411</td>\n",
       "      <td>0.341533</td>\n",
       "      <td>[0.31-0.38]</td>\n",
       "      <td>1.000000e-80</td>\n",
       "    </tr>\n",
       "    <tr>\n",
       "      <th>4</th>\n",
       "      <td>4</td>\n",
       "      <td>rs118039278-A</td>\n",
       "      <td>6:160564494</td>\n",
       "      <td>LPA</td>\n",
       "      <td>0.078451</td>\n",
       "      <td>0.276321</td>\n",
       "      <td>[0.26-0.29]</td>\n",
       "      <td>1.000000e-200</td>\n",
       "    </tr>\n",
       "  </tbody>\n",
       "</table>\n",
       "</div>"
      ],
      "text/plain": [
       "   Unnamed: 0            SNP     Position Mapped Genes        MAF       Beta  \\\n",
       "0           0     rs660240-T  1:109275216       CELSR2   0.215342  0.0407522   \n",
       "1           1     rs668948-G   2:21068657  TDRD15,APOB   0.179767  0.0596676   \n",
       "2           2  rs146534110-T  6:160157037      SLC22A1  0.0134888   0.148371   \n",
       "3           3  rs117733303-G  6:160501838        LPAL2  0.0178411   0.341533   \n",
       "4           4  rs118039278-A  6:160564494          LPA   0.078451   0.276321   \n",
       "\n",
       "              CI         pValue  \n",
       "0  [0.029-0.052]   2.000000e-12  \n",
       "1  [0.048-0.072]   5.000000e-22  \n",
       "2    [0.11-0.19]   6.000000e-13  \n",
       "3    [0.31-0.38]   1.000000e-80  \n",
       "4    [0.26-0.29]  1.000000e-200  "
      ]
     },
     "execution_count": 5,
     "metadata": {},
     "output_type": "execute_result"
    }
   ],
   "source": [
    "df.head(n=5)"
   ]
  },
  {
   "cell_type": "code",
   "execution_count": 6,
   "id": "372d3584-6a27-45ff-8f20-27b8548bc1fc",
   "metadata": {
    "scrolled": true
   },
   "outputs": [
    {
     "data": {
      "text/html": [
       "<div>\n",
       "<style scoped>\n",
       "    .dataframe tbody tr th:only-of-type {\n",
       "        vertical-align: middle;\n",
       "    }\n",
       "\n",
       "    .dataframe tbody tr th {\n",
       "        vertical-align: top;\n",
       "    }\n",
       "\n",
       "    .dataframe thead th {\n",
       "        text-align: right;\n",
       "    }\n",
       "</style>\n",
       "<table border=\"1\" class=\"dataframe\">\n",
       "  <thead>\n",
       "    <tr style=\"text-align: right;\">\n",
       "      <th></th>\n",
       "      <th>SNP</th>\n",
       "      <th>Position</th>\n",
       "      <th>MAF</th>\n",
       "      <th>Beta</th>\n",
       "      <th>CI</th>\n",
       "      <th>pValue</th>\n",
       "    </tr>\n",
       "  </thead>\n",
       "  <tbody>\n",
       "    <tr>\n",
       "      <th>0</th>\n",
       "      <td>rs660240-T</td>\n",
       "      <td>1:109275216</td>\n",
       "      <td>0.215342</td>\n",
       "      <td>0.0407522</td>\n",
       "      <td>[0.029-0.052]</td>\n",
       "      <td>2.000000e-12</td>\n",
       "    </tr>\n",
       "    <tr>\n",
       "      <th>1</th>\n",
       "      <td>rs668948-G</td>\n",
       "      <td>2:21068657</td>\n",
       "      <td>0.179767</td>\n",
       "      <td>0.0596676</td>\n",
       "      <td>[0.048-0.072]</td>\n",
       "      <td>5.000000e-22</td>\n",
       "    </tr>\n",
       "    <tr>\n",
       "      <th>2</th>\n",
       "      <td>rs146534110-T</td>\n",
       "      <td>6:160157037</td>\n",
       "      <td>0.0134888</td>\n",
       "      <td>0.148371</td>\n",
       "      <td>[0.11-0.19]</td>\n",
       "      <td>6.000000e-13</td>\n",
       "    </tr>\n",
       "    <tr>\n",
       "      <th>3</th>\n",
       "      <td>rs117733303-G</td>\n",
       "      <td>6:160501838</td>\n",
       "      <td>0.0178411</td>\n",
       "      <td>0.341533</td>\n",
       "      <td>[0.31-0.38]</td>\n",
       "      <td>1.000000e-80</td>\n",
       "    </tr>\n",
       "    <tr>\n",
       "      <th>4</th>\n",
       "      <td>rs118039278-A</td>\n",
       "      <td>6:160564494</td>\n",
       "      <td>0.078451</td>\n",
       "      <td>0.276321</td>\n",
       "      <td>[0.26-0.29]</td>\n",
       "      <td>1.000000e-200</td>\n",
       "    </tr>\n",
       "  </tbody>\n",
       "</table>\n",
       "</div>"
      ],
      "text/plain": [
       "             SNP     Position        MAF       Beta             CI  \\\n",
       "0     rs660240-T  1:109275216   0.215342  0.0407522  [0.029-0.052]   \n",
       "1     rs668948-G   2:21068657   0.179767  0.0596676  [0.048-0.072]   \n",
       "2  rs146534110-T  6:160157037  0.0134888   0.148371    [0.11-0.19]   \n",
       "3  rs117733303-G  6:160501838  0.0178411   0.341533    [0.31-0.38]   \n",
       "4  rs118039278-A  6:160564494   0.078451   0.276321    [0.26-0.29]   \n",
       "\n",
       "          pValue  \n",
       "0   2.000000e-12  \n",
       "1   5.000000e-22  \n",
       "2   6.000000e-13  \n",
       "3   1.000000e-80  \n",
       "4  1.000000e-200  "
      ]
     },
     "execution_count": 6,
     "metadata": {},
     "output_type": "execute_result"
    }
   ],
   "source": [
    "df = df[[\"SNP\", \"Position\", \"MAF\", \"Beta\", \"CI\", \"pValue\"]]\n",
    "df.shape\n",
    "df.head(n=5)"
   ]
  },
  {
   "cell_type": "code",
   "execution_count": 7,
   "id": "8a9d9b8d-bd94-44a3-8afe-d3e249f4891e",
   "metadata": {},
   "outputs": [],
   "source": [
    "df2 = parse_csv(\"/Users/guillermocomesanacimadevila/Desktop/outcome.csv\")"
   ]
  },
  {
   "cell_type": "code",
   "execution_count": 8,
   "id": "82b1ec7d-5660-4e85-a5c9-2e018a282ce1",
   "metadata": {},
   "outputs": [
    {
     "data": {
      "text/html": [
       "<div>\n",
       "<style scoped>\n",
       "    .dataframe tbody tr th:only-of-type {\n",
       "        vertical-align: middle;\n",
       "    }\n",
       "\n",
       "    .dataframe tbody tr th {\n",
       "        vertical-align: top;\n",
       "    }\n",
       "\n",
       "    .dataframe thead th {\n",
       "        text-align: right;\n",
       "    }\n",
       "</style>\n",
       "<table border=\"1\" class=\"dataframe\">\n",
       "  <thead>\n",
       "    <tr style=\"text-align: right;\">\n",
       "      <th></th>\n",
       "      <th>Unnamed: 0</th>\n",
       "      <th>riskAllele</th>\n",
       "      <th>pValue</th>\n",
       "      <th>pValueAnnotation</th>\n",
       "      <th>riskFrequency</th>\n",
       "      <th>orValue</th>\n",
       "      <th>beta</th>\n",
       "      <th>ci</th>\n",
       "      <th>mappedGenes</th>\n",
       "      <th>traitName</th>\n",
       "      <th>efoTraits</th>\n",
       "      <th>bgTraits</th>\n",
       "      <th>accessionId</th>\n",
       "      <th>locations</th>\n",
       "      <th>pubmedId</th>\n",
       "      <th>author</th>\n",
       "    </tr>\n",
       "  </thead>\n",
       "  <tbody>\n",
       "    <tr>\n",
       "      <th>0</th>\n",
       "      <td>0</td>\n",
       "      <td>rs7185636-T</td>\n",
       "      <td>2.000000e-08</td>\n",
       "      <td>-</td>\n",
       "      <td>0.8200000000000001</td>\n",
       "      <td>1.0869565</td>\n",
       "      <td>-</td>\n",
       "      <td>[1.05-1.12]</td>\n",
       "      <td>IQCK</td>\n",
       "      <td>Alzheimer's disease (late onset)</td>\n",
       "      <td>late-onset Alzheimers disease</td>\n",
       "      <td>-</td>\n",
       "      <td>GCST007511</td>\n",
       "      <td>16:19796841</td>\n",
       "      <td>30820047</td>\n",
       "      <td>Kunkle BW</td>\n",
       "    </tr>\n",
       "    <tr>\n",
       "      <th>1</th>\n",
       "      <td>1</td>\n",
       "      <td>rs593742-A</td>\n",
       "      <td>7.000000e-09</td>\n",
       "      <td>-</td>\n",
       "      <td>0.7050000000000001</td>\n",
       "      <td>1.0752687</td>\n",
       "      <td>-</td>\n",
       "      <td>[1.05-1.1]</td>\n",
       "      <td>MINDY2-DT,ADAM10</td>\n",
       "      <td>Alzheimer's disease (late onset)</td>\n",
       "      <td>late-onset Alzheimers disease</td>\n",
       "      <td>-</td>\n",
       "      <td>GCST007511</td>\n",
       "      <td>15:58753575</td>\n",
       "      <td>30820047</td>\n",
       "      <td>Kunkle BW</td>\n",
       "    </tr>\n",
       "    <tr>\n",
       "      <th>2</th>\n",
       "      <td>2</td>\n",
       "      <td>rs2830500-C</td>\n",
       "      <td>3.000000e-08</td>\n",
       "      <td>-</td>\n",
       "      <td>0.692</td>\n",
       "      <td>1.0752687</td>\n",
       "      <td>-</td>\n",
       "      <td>[1.04-1.1]</td>\n",
       "      <td>CYYR1,ADAMTS1</td>\n",
       "      <td>Alzheimer's disease (late onset)</td>\n",
       "      <td>late-onset Alzheimers disease</td>\n",
       "      <td>-</td>\n",
       "      <td>GCST007511</td>\n",
       "      <td>21:26784537</td>\n",
       "      <td>30820047</td>\n",
       "      <td>Kunkle BW</td>\n",
       "    </tr>\n",
       "    <tr>\n",
       "      <th>3</th>\n",
       "      <td>3</td>\n",
       "      <td>rs4735340-T</td>\n",
       "      <td>9.000000e-08</td>\n",
       "      <td>-</td>\n",
       "      <td>0.524</td>\n",
       "      <td>1.0638298</td>\n",
       "      <td>-</td>\n",
       "      <td>[1.04-1.09]</td>\n",
       "      <td>NDUFAF6</td>\n",
       "      <td>Alzheimer's disease (late onset)</td>\n",
       "      <td>late-onset Alzheimers disease</td>\n",
       "      <td>-</td>\n",
       "      <td>GCST007511</td>\n",
       "      <td>8:94964023</td>\n",
       "      <td>30820047</td>\n",
       "      <td>Kunkle BW</td>\n",
       "    </tr>\n",
       "    <tr>\n",
       "      <th>4</th>\n",
       "      <td>4</td>\n",
       "      <td>rs10467994-T</td>\n",
       "      <td>4.000000e-07</td>\n",
       "      <td>-</td>\n",
       "      <td>0.667</td>\n",
       "      <td>1.0638298</td>\n",
       "      <td>-</td>\n",
       "      <td>[1.04-1.09]</td>\n",
       "      <td>SPPL2A</td>\n",
       "      <td>Alzheimer's disease (late onset)</td>\n",
       "      <td>late-onset Alzheimers disease</td>\n",
       "      <td>-</td>\n",
       "      <td>GCST007511</td>\n",
       "      <td>15:50716490</td>\n",
       "      <td>30820047</td>\n",
       "      <td>Kunkle BW</td>\n",
       "    </tr>\n",
       "  </tbody>\n",
       "</table>\n",
       "</div>"
      ],
      "text/plain": [
       "   Unnamed: 0    riskAllele        pValue pValueAnnotation  \\\n",
       "0           0   rs7185636-T  2.000000e-08                -   \n",
       "1           1    rs593742-A  7.000000e-09                -   \n",
       "2           2   rs2830500-C  3.000000e-08                -   \n",
       "3           3   rs4735340-T  9.000000e-08                -   \n",
       "4           4  rs10467994-T  4.000000e-07                -   \n",
       "\n",
       "        riskFrequency    orValue beta           ci       mappedGenes  \\\n",
       "0  0.8200000000000001  1.0869565    -  [1.05-1.12]              IQCK   \n",
       "1  0.7050000000000001  1.0752687    -   [1.05-1.1]  MINDY2-DT,ADAM10   \n",
       "2               0.692  1.0752687    -   [1.04-1.1]     CYYR1,ADAMTS1   \n",
       "3               0.524  1.0638298    -  [1.04-1.09]           NDUFAF6   \n",
       "4               0.667  1.0638298    -  [1.04-1.09]            SPPL2A   \n",
       "\n",
       "                          traitName                      efoTraits bgTraits  \\\n",
       "0  Alzheimer's disease (late onset)  late-onset Alzheimers disease        -   \n",
       "1  Alzheimer's disease (late onset)  late-onset Alzheimers disease        -   \n",
       "2  Alzheimer's disease (late onset)  late-onset Alzheimers disease        -   \n",
       "3  Alzheimer's disease (late onset)  late-onset Alzheimers disease        -   \n",
       "4  Alzheimer's disease (late onset)  late-onset Alzheimers disease        -   \n",
       "\n",
       "  accessionId    locations  pubmedId     author  \n",
       "0  GCST007511  16:19796841  30820047  Kunkle BW  \n",
       "1  GCST007511  15:58753575  30820047  Kunkle BW  \n",
       "2  GCST007511  21:26784537  30820047  Kunkle BW  \n",
       "3  GCST007511   8:94964023  30820047  Kunkle BW  \n",
       "4  GCST007511  15:50716490  30820047  Kunkle BW  "
      ]
     },
     "execution_count": 8,
     "metadata": {},
     "output_type": "execute_result"
    }
   ],
   "source": [
    "df2.head(n=5)"
   ]
  },
  {
   "cell_type": "code",
   "execution_count": 9,
   "id": "da6513b5-a8b5-4ca2-a901-3105eb3cc5c7",
   "metadata": {},
   "outputs": [
    {
     "name": "stdout",
     "output_type": "stream",
     "text": [
      "Columns in outcome GWAS: Index(['Unnamed: 0', 'riskAllele', 'pValue', 'pValueAnnotation',\n",
      "       'riskFrequency', 'orValue', 'beta', 'ci', 'mappedGenes', 'traitName',\n",
      "       'efoTraits', 'bgTraits', 'accessionId', 'locations', 'pubmedId',\n",
      "       'author'],\n",
      "      dtype='object')\n"
     ]
    }
   ],
   "source": [
    "df2.shape\n",
    "print(f\"Columns in outcome GWAS: {df2.columns}\")"
   ]
  },
  {
   "cell_type": "code",
   "execution_count": 10,
   "id": "d2e949d6-12fa-4e72-8470-11aca3439168",
   "metadata": {},
   "outputs": [],
   "source": [
    "df2 = df2.rename(columns = {\"riskAllele\": \"SNP\", \"riskFrequency\": \"MAF\", \n",
    "                            \"locations\": \"Position\",\"mappedGenes\": \"Mapped Genes\",\n",
    "                            \"beta\": \"Beta\", \"ci\": \"CI\"})"
   ]
  },
  {
   "cell_type": "code",
   "execution_count": 11,
   "id": "a4dbf17d-9de2-48af-bd32-169317748a57",
   "metadata": {},
   "outputs": [
    {
     "data": {
      "text/plain": [
       "(3169, 16)"
      ]
     },
     "execution_count": 11,
     "metadata": {},
     "output_type": "execute_result"
    }
   ],
   "source": [
    "df2.shape"
   ]
  },
  {
   "cell_type": "code",
   "execution_count": 12,
   "id": "eed19d0d-4624-4193-9f84-a2385a772d36",
   "metadata": {},
   "outputs": [],
   "source": [
    "df2 = df2[[\"SNP\", \"MAF\", \"Position\", \"Mapped Genes\", \"Beta\", \"CI\", \"pValue\"]]"
   ]
  },
  {
   "cell_type": "code",
   "execution_count": 13,
   "id": "64309bb5-edbc-42af-b843-13f70c4657e3",
   "metadata": {},
   "outputs": [
    {
     "data": {
      "text/html": [
       "<div>\n",
       "<style scoped>\n",
       "    .dataframe tbody tr th:only-of-type {\n",
       "        vertical-align: middle;\n",
       "    }\n",
       "\n",
       "    .dataframe tbody tr th {\n",
       "        vertical-align: top;\n",
       "    }\n",
       "\n",
       "    .dataframe thead th {\n",
       "        text-align: right;\n",
       "    }\n",
       "</style>\n",
       "<table border=\"1\" class=\"dataframe\">\n",
       "  <thead>\n",
       "    <tr style=\"text-align: right;\">\n",
       "      <th></th>\n",
       "      <th>SNP</th>\n",
       "      <th>MAF</th>\n",
       "      <th>Position</th>\n",
       "      <th>Mapped Genes</th>\n",
       "      <th>Beta</th>\n",
       "      <th>CI</th>\n",
       "      <th>pValue</th>\n",
       "    </tr>\n",
       "  </thead>\n",
       "  <tbody>\n",
       "    <tr>\n",
       "      <th>0</th>\n",
       "      <td>rs7185636-T</td>\n",
       "      <td>0.8200000000000001</td>\n",
       "      <td>16:19796841</td>\n",
       "      <td>IQCK</td>\n",
       "      <td>-</td>\n",
       "      <td>[1.05-1.12]</td>\n",
       "      <td>2.000000e-08</td>\n",
       "    </tr>\n",
       "    <tr>\n",
       "      <th>1</th>\n",
       "      <td>rs593742-A</td>\n",
       "      <td>0.7050000000000001</td>\n",
       "      <td>15:58753575</td>\n",
       "      <td>MINDY2-DT,ADAM10</td>\n",
       "      <td>-</td>\n",
       "      <td>[1.05-1.1]</td>\n",
       "      <td>7.000000e-09</td>\n",
       "    </tr>\n",
       "    <tr>\n",
       "      <th>2</th>\n",
       "      <td>rs2830500-C</td>\n",
       "      <td>0.692</td>\n",
       "      <td>21:26784537</td>\n",
       "      <td>CYYR1,ADAMTS1</td>\n",
       "      <td>-</td>\n",
       "      <td>[1.04-1.1]</td>\n",
       "      <td>3.000000e-08</td>\n",
       "    </tr>\n",
       "    <tr>\n",
       "      <th>3</th>\n",
       "      <td>rs4735340-T</td>\n",
       "      <td>0.524</td>\n",
       "      <td>8:94964023</td>\n",
       "      <td>NDUFAF6</td>\n",
       "      <td>-</td>\n",
       "      <td>[1.04-1.09]</td>\n",
       "      <td>9.000000e-08</td>\n",
       "    </tr>\n",
       "    <tr>\n",
       "      <th>4</th>\n",
       "      <td>rs10467994-T</td>\n",
       "      <td>0.667</td>\n",
       "      <td>15:50716490</td>\n",
       "      <td>SPPL2A</td>\n",
       "      <td>-</td>\n",
       "      <td>[1.04-1.09]</td>\n",
       "      <td>4.000000e-07</td>\n",
       "    </tr>\n",
       "  </tbody>\n",
       "</table>\n",
       "</div>"
      ],
      "text/plain": [
       "            SNP                 MAF     Position      Mapped Genes Beta  \\\n",
       "0   rs7185636-T  0.8200000000000001  16:19796841              IQCK    -   \n",
       "1    rs593742-A  0.7050000000000001  15:58753575  MINDY2-DT,ADAM10    -   \n",
       "2   rs2830500-C               0.692  21:26784537     CYYR1,ADAMTS1    -   \n",
       "3   rs4735340-T               0.524   8:94964023           NDUFAF6    -   \n",
       "4  rs10467994-T               0.667  15:50716490            SPPL2A    -   \n",
       "\n",
       "            CI        pValue  \n",
       "0  [1.05-1.12]  2.000000e-08  \n",
       "1   [1.05-1.1]  7.000000e-09  \n",
       "2   [1.04-1.1]  3.000000e-08  \n",
       "3  [1.04-1.09]  9.000000e-08  \n",
       "4  [1.04-1.09]  4.000000e-07  "
      ]
     },
     "execution_count": 13,
     "metadata": {},
     "output_type": "execute_result"
    }
   ],
   "source": [
    "df2.head(n=5)"
   ]
  },
  {
   "cell_type": "code",
   "execution_count": 14,
   "id": "ea3aa023-7e56-410e-ab5d-1b2388c2159f",
   "metadata": {
    "scrolled": true
   },
   "outputs": [
    {
     "data": {
      "text/plain": [
       "SNP             0\n",
       "MAF             0\n",
       "Position        0\n",
       "Mapped Genes    0\n",
       "Beta            0\n",
       "CI              0\n",
       "pValue          0\n",
       "dtype: int64"
      ]
     },
     "execution_count": 14,
     "metadata": {},
     "output_type": "execute_result"
    }
   ],
   "source": [
    "df2.isna().sum()"
   ]
  },
  {
   "cell_type": "code",
   "execution_count": 15,
   "id": "cae95186-60ed-4ca9-a049-5b8e8073fd39",
   "metadata": {},
   "outputs": [
    {
     "name": "stdout",
     "output_type": "stream",
     "text": [
      "2200\n"
     ]
    }
   ],
   "source": [
    "print(len([i for i in df2[\"Beta\"] if i == \"-\"]))"
   ]
  },
  {
   "cell_type": "code",
   "execution_count": 16,
   "id": "4760a750-fd50-4818-86f9-866ecc77ab9d",
   "metadata": {},
   "outputs": [],
   "source": [
    "df2 = df2[df2[\"Beta\"] != \"-\"] # clean Beta column\n",
    "df2.loc[:, \"Beta\"] = df2[\"Beta\"].str.replace(\" unit decrease\", \"\", regex=False)\n",
    "df2.loc[:, \"Beta\"] = df2[\"Beta\"].str.replace(\" unit increase\", \"\", regex=False)"
   ]
  },
  {
   "cell_type": "code",
   "execution_count": 17,
   "id": "4ec79cd4-f1d5-4bd1-9fda-239af73600d8",
   "metadata": {
    "scrolled": true
   },
   "outputs": [
    {
     "data": {
      "text/plain": [
       "(5943, 6)"
      ]
     },
     "execution_count": 17,
     "metadata": {},
     "output_type": "execute_result"
    }
   ],
   "source": [
    "df = df[df[\"MAF\"] != \"NR\"]\n",
    "df.shape"
   ]
  },
  {
   "cell_type": "code",
   "execution_count": 18,
   "id": "cfa0ab44-94c8-4639-8ada-2d7ccfc23371",
   "metadata": {},
   "outputs": [],
   "source": [
    "# Checking for common SNPs"
   ]
  },
  {
   "cell_type": "code",
   "execution_count": 19,
   "id": "614faac2-d59e-4cd8-864a-02d77048e298",
   "metadata": {},
   "outputs": [
    {
     "name": "stdout",
     "output_type": "stream",
     "text": [
      "['rs147711004-A', 'rs7412-T', 'rs7254892-A', 'rs429358-T', 'rs41289512-G', 'rs769449-A', 'rs1160983-A', 'rs41290120-A', 'rs75627662-T']\n",
      "9\n"
     ]
    }
   ],
   "source": [
    "print(common_snps(df, df2))\n",
    "print(len(common_snps(df, df2))) # 23 SNPs are shared in both GWAS "
   ]
  },
  {
   "cell_type": "code",
   "execution_count": null,
   "id": "8a79d1eb-f3ae-4aa9-afa2-d234ac79d118",
   "metadata": {},
   "outputs": [],
   "source": []
  },
  {
   "cell_type": "markdown",
   "id": "cfa7cc22-2703-4ddf-95b1-df76848d41d2",
   "metadata": {},
   "source": [
    "### Steps following Exploratory Analysis\n",
    "##### Find new data for df2 (>7k SNPs ideally)\n",
    "##### Further cleaning - remove SNPs with Beta or pval == 0\n",
    "##### Merge both datasets concerning all 23 common SNPs\n",
    "##### Log normalise pVal too\n",
    "##### Scale both X and Y Betas between 0\n",
    "##### Train-Test Split\n",
    "##### Visualise Linear Regression"
   ]
  },
  {
   "cell_type": "code",
   "execution_count": 21,
   "id": "57e210f6-f640-4137-83f3-18c812529f5b",
   "metadata": {},
   "outputs": [],
   "source": [
    "cvd_df = parse_csv(\"/Users/guillermocomesanacimadevila/Desktop/CVD_cleaned.csv\")"
   ]
  },
  {
   "cell_type": "code",
   "execution_count": 23,
   "id": "d9854ab2-95c9-4eca-b03f-dbfb7f258f64",
   "metadata": {},
   "outputs": [
    {
     "data": {
      "text/html": [
       "<div>\n",
       "<style scoped>\n",
       "    .dataframe tbody tr th:only-of-type {\n",
       "        vertical-align: middle;\n",
       "    }\n",
       "\n",
       "    .dataframe tbody tr th {\n",
       "        vertical-align: top;\n",
       "    }\n",
       "\n",
       "    .dataframe thead th {\n",
       "        text-align: right;\n",
       "    }\n",
       "</style>\n",
       "<table border=\"1\" class=\"dataframe\">\n",
       "  <thead>\n",
       "    <tr style=\"text-align: right;\">\n",
       "      <th></th>\n",
       "      <th>SNP</th>\n",
       "      <th>pValue</th>\n",
       "      <th>MAF</th>\n",
       "      <th>Beta</th>\n",
       "      <th>CI</th>\n",
       "      <th>Position</th>\n",
       "      <th>Mapped Genes</th>\n",
       "    </tr>\n",
       "  </thead>\n",
       "  <tbody>\n",
       "    <tr>\n",
       "      <th>0</th>\n",
       "      <td>rs13030042-T</td>\n",
       "      <td>1.000000e-13</td>\n",
       "      <td>0.4683</td>\n",
       "      <td>0.0</td>\n",
       "      <td>[0.076-0.138]</td>\n",
       "      <td>2:201273662</td>\n",
       "      <td>CASP8</td>\n",
       "    </tr>\n",
       "    <tr>\n",
       "      <th>1</th>\n",
       "      <td>rs528945713-G</td>\n",
       "      <td>4.000000e-11</td>\n",
       "      <td>0.9995</td>\n",
       "      <td>1.0</td>\n",
       "      <td>[1.92-2.04]</td>\n",
       "      <td>7:91931760</td>\n",
       "      <td>MTERF1,AKAP9</td>\n",
       "    </tr>\n",
       "    <tr>\n",
       "      <th>2</th>\n",
       "      <td>rs1027038-G</td>\n",
       "      <td>1.000000e-18</td>\n",
       "      <td>0.639</td>\n",
       "      <td>0.0</td>\n",
       "      <td>[0.097-0.162]</td>\n",
       "      <td>8:126990244</td>\n",
       "      <td>PCAT1</td>\n",
       "    </tr>\n",
       "    <tr>\n",
       "      <th>3</th>\n",
       "      <td>rs536787956-G</td>\n",
       "      <td>2.000000e-12</td>\n",
       "      <td>0.9997</td>\n",
       "      <td>4.0</td>\n",
       "      <td>[4.15-4.17]</td>\n",
       "      <td>13:69751343</td>\n",
       "      <td>KLHL1</td>\n",
       "    </tr>\n",
       "    <tr>\n",
       "      <th>4</th>\n",
       "      <td>rs12678465-G</td>\n",
       "      <td>1.000000e-17</td>\n",
       "      <td>0.6064</td>\n",
       "      <td>0.0</td>\n",
       "      <td>[0.098-0.158]</td>\n",
       "      <td>8:126990627</td>\n",
       "      <td>PCAT1</td>\n",
       "    </tr>\n",
       "  </tbody>\n",
       "</table>\n",
       "</div>"
      ],
      "text/plain": [
       "             SNP        pValue     MAF  Beta             CI     Position  \\\n",
       "0   rs13030042-T  1.000000e-13  0.4683   0.0  [0.076-0.138]  2:201273662   \n",
       "1  rs528945713-G  4.000000e-11  0.9995   1.0    [1.92-2.04]   7:91931760   \n",
       "2    rs1027038-G  1.000000e-18   0.639   0.0  [0.097-0.162]  8:126990244   \n",
       "3  rs536787956-G  2.000000e-12  0.9997   4.0    [4.15-4.17]  13:69751343   \n",
       "4   rs12678465-G  1.000000e-17  0.6064   0.0  [0.098-0.158]  8:126990627   \n",
       "\n",
       "   Mapped Genes  \n",
       "0         CASP8  \n",
       "1  MTERF1,AKAP9  \n",
       "2         PCAT1  \n",
       "3         KLHL1  \n",
       "4         PCAT1  "
      ]
     },
     "execution_count": 23,
     "metadata": {},
     "output_type": "execute_result"
    }
   ],
   "source": [
    "cvd_df.head(n=5)"
   ]
  },
  {
   "cell_type": "code",
   "execution_count": 22,
   "id": "3a7d7735-7697-4218-bb9e-373bb5af41de",
   "metadata": {},
   "outputs": [
    {
     "name": "stdout",
     "output_type": "stream",
     "text": [
      "SNP              object\n",
      "pValue          float64\n",
      "MAF              object\n",
      "Beta            float64\n",
      "CI               object\n",
      "Position         object\n",
      "Mapped Genes     object\n",
      "dtype: object\n"
     ]
    }
   ],
   "source": [
    "print(cvd_df.dtypes)"
   ]
  },
  {
   "cell_type": "code",
   "execution_count": 29,
   "id": "cd76274c-d587-4b96-ac6d-e2f1ff9ca1a0",
   "metadata": {},
   "outputs": [
    {
     "ename": "AttributeError",
     "evalue": "Can only use .str accessor with string values!",
     "output_type": "error",
     "traceback": [
      "\u001b[0;31m---------------------------------------------------------------------------\u001b[0m",
      "\u001b[0;31mAttributeError\u001b[0m                            Traceback (most recent call last)",
      "Cell \u001b[0;32mIn[29], line 2\u001b[0m\n\u001b[1;32m      1\u001b[0m \u001b[38;5;66;03m# Convert Beta and Pval into float\u001b[39;00m\n\u001b[0;32m----> 2\u001b[0m df\u001b[38;5;241m.\u001b[39mloc[:, \u001b[38;5;124m\"\u001b[39m\u001b[38;5;124mBeta\u001b[39m\u001b[38;5;124m\"\u001b[39m] \u001b[38;5;241m=\u001b[39m df[\u001b[38;5;124m\"\u001b[39m\u001b[38;5;124mBeta\u001b[39m\u001b[38;5;124m\"\u001b[39m]\u001b[38;5;241m.\u001b[39mstr\u001b[38;5;241m.\u001b[39mreplace(\u001b[38;5;124mr\u001b[39m\u001b[38;5;124m\"\u001b[39m\u001b[38;5;124m(\u001b[39m\u001b[38;5;124m\\\u001b[39m\u001b[38;5;124md+).*\u001b[39m\u001b[38;5;124m\"\u001b[39m, \u001b[38;5;124mr\u001b[39m\u001b[38;5;124m\"\u001b[39m\u001b[38;5;124m\\\u001b[39m\u001b[38;5;124m1\u001b[39m\u001b[38;5;124m\"\u001b[39m, regex\u001b[38;5;241m=\u001b[39m\u001b[38;5;28;01mTrue\u001b[39;00m)\n\u001b[1;32m      3\u001b[0m df[\u001b[38;5;124m\"\u001b[39m\u001b[38;5;124mBeta\u001b[39m\u001b[38;5;124m\"\u001b[39m] \u001b[38;5;241m=\u001b[39m df[\u001b[38;5;124m\"\u001b[39m\u001b[38;5;124mBeta\u001b[39m\u001b[38;5;124m\"\u001b[39m]\u001b[38;5;241m.\u001b[39mastype(\u001b[38;5;28mfloat\u001b[39m)\n",
      "File \u001b[0;32m/opt/anaconda3/lib/python3.12/site-packages/pandas/core/generic.py:6299\u001b[0m, in \u001b[0;36mNDFrame.__getattr__\u001b[0;34m(self, name)\u001b[0m\n\u001b[1;32m   6292\u001b[0m \u001b[38;5;28;01mif\u001b[39;00m (\n\u001b[1;32m   6293\u001b[0m     name \u001b[38;5;129;01mnot\u001b[39;00m \u001b[38;5;129;01min\u001b[39;00m \u001b[38;5;28mself\u001b[39m\u001b[38;5;241m.\u001b[39m_internal_names_set\n\u001b[1;32m   6294\u001b[0m     \u001b[38;5;129;01mand\u001b[39;00m name \u001b[38;5;129;01mnot\u001b[39;00m \u001b[38;5;129;01min\u001b[39;00m \u001b[38;5;28mself\u001b[39m\u001b[38;5;241m.\u001b[39m_metadata\n\u001b[1;32m   6295\u001b[0m     \u001b[38;5;129;01mand\u001b[39;00m name \u001b[38;5;129;01mnot\u001b[39;00m \u001b[38;5;129;01min\u001b[39;00m \u001b[38;5;28mself\u001b[39m\u001b[38;5;241m.\u001b[39m_accessors\n\u001b[1;32m   6296\u001b[0m     \u001b[38;5;129;01mand\u001b[39;00m \u001b[38;5;28mself\u001b[39m\u001b[38;5;241m.\u001b[39m_info_axis\u001b[38;5;241m.\u001b[39m_can_hold_identifiers_and_holds_name(name)\n\u001b[1;32m   6297\u001b[0m ):\n\u001b[1;32m   6298\u001b[0m     \u001b[38;5;28;01mreturn\u001b[39;00m \u001b[38;5;28mself\u001b[39m[name]\n\u001b[0;32m-> 6299\u001b[0m \u001b[38;5;28;01mreturn\u001b[39;00m \u001b[38;5;28mobject\u001b[39m\u001b[38;5;241m.\u001b[39m\u001b[38;5;21m__getattribute__\u001b[39m(\u001b[38;5;28mself\u001b[39m, name)\n",
      "File \u001b[0;32m/opt/anaconda3/lib/python3.12/site-packages/pandas/core/accessor.py:224\u001b[0m, in \u001b[0;36mCachedAccessor.__get__\u001b[0;34m(self, obj, cls)\u001b[0m\n\u001b[1;32m    221\u001b[0m \u001b[38;5;28;01mif\u001b[39;00m obj \u001b[38;5;129;01mis\u001b[39;00m \u001b[38;5;28;01mNone\u001b[39;00m:\n\u001b[1;32m    222\u001b[0m     \u001b[38;5;66;03m# we're accessing the attribute of the class, i.e., Dataset.geo\u001b[39;00m\n\u001b[1;32m    223\u001b[0m     \u001b[38;5;28;01mreturn\u001b[39;00m \u001b[38;5;28mself\u001b[39m\u001b[38;5;241m.\u001b[39m_accessor\n\u001b[0;32m--> 224\u001b[0m accessor_obj \u001b[38;5;241m=\u001b[39m \u001b[38;5;28mself\u001b[39m\u001b[38;5;241m.\u001b[39m_accessor(obj)\n\u001b[1;32m    225\u001b[0m \u001b[38;5;66;03m# Replace the property with the accessor object. Inspired by:\u001b[39;00m\n\u001b[1;32m    226\u001b[0m \u001b[38;5;66;03m# https://www.pydanny.com/cached-property.html\u001b[39;00m\n\u001b[1;32m    227\u001b[0m \u001b[38;5;66;03m# We need to use object.__setattr__ because we overwrite __setattr__ on\u001b[39;00m\n\u001b[1;32m    228\u001b[0m \u001b[38;5;66;03m# NDFrame\u001b[39;00m\n\u001b[1;32m    229\u001b[0m \u001b[38;5;28mobject\u001b[39m\u001b[38;5;241m.\u001b[39m\u001b[38;5;21m__setattr__\u001b[39m(obj, \u001b[38;5;28mself\u001b[39m\u001b[38;5;241m.\u001b[39m_name, accessor_obj)\n",
      "File \u001b[0;32m/opt/anaconda3/lib/python3.12/site-packages/pandas/core/strings/accessor.py:191\u001b[0m, in \u001b[0;36mStringMethods.__init__\u001b[0;34m(self, data)\u001b[0m\n\u001b[1;32m    188\u001b[0m \u001b[38;5;28;01mdef\u001b[39;00m \u001b[38;5;21m__init__\u001b[39m(\u001b[38;5;28mself\u001b[39m, data) \u001b[38;5;241m-\u001b[39m\u001b[38;5;241m>\u001b[39m \u001b[38;5;28;01mNone\u001b[39;00m:\n\u001b[1;32m    189\u001b[0m     \u001b[38;5;28;01mfrom\u001b[39;00m \u001b[38;5;21;01mpandas\u001b[39;00m\u001b[38;5;21;01m.\u001b[39;00m\u001b[38;5;21;01mcore\u001b[39;00m\u001b[38;5;21;01m.\u001b[39;00m\u001b[38;5;21;01marrays\u001b[39;00m\u001b[38;5;21;01m.\u001b[39;00m\u001b[38;5;21;01mstring_\u001b[39;00m \u001b[38;5;28;01mimport\u001b[39;00m StringDtype\n\u001b[0;32m--> 191\u001b[0m     \u001b[38;5;28mself\u001b[39m\u001b[38;5;241m.\u001b[39m_inferred_dtype \u001b[38;5;241m=\u001b[39m \u001b[38;5;28mself\u001b[39m\u001b[38;5;241m.\u001b[39m_validate(data)\n\u001b[1;32m    192\u001b[0m     \u001b[38;5;28mself\u001b[39m\u001b[38;5;241m.\u001b[39m_is_categorical \u001b[38;5;241m=\u001b[39m \u001b[38;5;28misinstance\u001b[39m(data\u001b[38;5;241m.\u001b[39mdtype, CategoricalDtype)\n\u001b[1;32m    193\u001b[0m     \u001b[38;5;28mself\u001b[39m\u001b[38;5;241m.\u001b[39m_is_string \u001b[38;5;241m=\u001b[39m \u001b[38;5;28misinstance\u001b[39m(data\u001b[38;5;241m.\u001b[39mdtype, StringDtype)\n",
      "File \u001b[0;32m/opt/anaconda3/lib/python3.12/site-packages/pandas/core/strings/accessor.py:245\u001b[0m, in \u001b[0;36mStringMethods._validate\u001b[0;34m(data)\u001b[0m\n\u001b[1;32m    242\u001b[0m inferred_dtype \u001b[38;5;241m=\u001b[39m lib\u001b[38;5;241m.\u001b[39minfer_dtype(values, skipna\u001b[38;5;241m=\u001b[39m\u001b[38;5;28;01mTrue\u001b[39;00m)\n\u001b[1;32m    244\u001b[0m \u001b[38;5;28;01mif\u001b[39;00m inferred_dtype \u001b[38;5;129;01mnot\u001b[39;00m \u001b[38;5;129;01min\u001b[39;00m allowed_types:\n\u001b[0;32m--> 245\u001b[0m     \u001b[38;5;28;01mraise\u001b[39;00m \u001b[38;5;167;01mAttributeError\u001b[39;00m(\u001b[38;5;124m\"\u001b[39m\u001b[38;5;124mCan only use .str accessor with string values!\u001b[39m\u001b[38;5;124m\"\u001b[39m)\n\u001b[1;32m    246\u001b[0m \u001b[38;5;28;01mreturn\u001b[39;00m inferred_dtype\n",
      "\u001b[0;31mAttributeError\u001b[0m: Can only use .str accessor with string values!"
     ]
    }
   ],
   "source": [
    "# Convert Beta and Pval into float\n",
    "df.loc[:, \"Beta\"] = df[\"Beta\"].str.replace(r\"(\\d+).*\", r\"\\1\", regex=True)\n",
    "df[\"Beta\"] = df[\"Beta\"].astype(float)\n",
    "\n",
    "# df[\"pValue\"] = df[\"pValue\"].astype(float)"
   ]
  },
  {
   "cell_type": "code",
   "execution_count": 30,
   "id": "01e089bf-b1e8-45e0-87ec-3f4a92c3e1e0",
   "metadata": {},
   "outputs": [
    {
     "data": {
      "text/plain": [
       "SNP          object\n",
       "Position     object\n",
       "MAF          object\n",
       "Beta        float64\n",
       "CI           object\n",
       "pValue       object\n",
       "dtype: object"
      ]
     },
     "execution_count": 30,
     "metadata": {},
     "output_type": "execute_result"
    }
   ],
   "source": [
    "df.dtypes"
   ]
  },
  {
   "cell_type": "code",
   "execution_count": 33,
   "id": "fdf259cb-b34e-4552-8631-3fbe90f7e726",
   "metadata": {},
   "outputs": [
    {
     "data": {
      "text/plain": [
       "110"
      ]
     },
     "execution_count": 33,
     "metadata": {},
     "output_type": "execute_result"
    }
   ],
   "source": [
    "len(common_snps(df, cvd_df))"
   ]
  },
  {
   "cell_type": "markdown",
   "id": "228f98b8-74a4-4e27-b9ff-e8a2abe2edc1",
   "metadata": {},
   "source": [
    "### Transform Beta into -log(Beta) - Scale it "
   ]
  },
  {
   "cell_type": "code",
   "execution_count": null,
   "id": "5534d7c9-87f7-47f3-ad9e-f8c9f64f3b78",
   "metadata": {},
   "outputs": [],
   "source": [
    "df[\"log10(p)\"] = -np.log10(df[\"pValue\"])"
   ]
  }
 ],
 "metadata": {
  "kernelspec": {
   "display_name": "Python 3 (ipykernel)",
   "language": "python",
   "name": "python3"
  },
  "language_info": {
   "codemirror_mode": {
    "name": "ipython",
    "version": 3
   },
   "file_extension": ".py",
   "mimetype": "text/x-python",
   "name": "python",
   "nbconvert_exporter": "python",
   "pygments_lexer": "ipython3",
   "version": "3.12.7"
  }
 },
 "nbformat": 4,
 "nbformat_minor": 5
}
