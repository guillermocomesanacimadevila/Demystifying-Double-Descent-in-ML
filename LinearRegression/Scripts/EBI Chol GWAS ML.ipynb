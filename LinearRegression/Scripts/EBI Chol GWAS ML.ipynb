{
 "cells": [
  {
   "cell_type": "markdown",
   "id": "a4f9cfba-e098-4eb3-8c8b-26853849c975",
   "metadata": {},
   "source": [
    "### Predicting Beta (Effect Size)\n",
    "##### Linear Regression - proof for Double-Descent in Machine Learning"
   ]
  },
  {
   "cell_type": "code",
   "execution_count": 47,
   "id": "58bdab53-0aa4-4328-b002-4fb2397fc245",
   "metadata": {},
   "outputs": [],
   "source": [
    "# Data Manipulation\n",
    "import os\n",
    "import pandas as pd\n",
    "import numpy as np\n",
    "\n",
    "# Data Visualisation\n",
    "import matplotlib.pyplot as plt\n",
    "import seaborn as sns\n",
    "\n",
    "# Model Selection and Evaluation\n",
    "from sklearn.model_selection import train_test_split\n",
    "from sklearn.linear_model import LinearRegression\n",
    "from sklearn.metrics import mean_absolute_error, mean_squared_error, r2_score"
   ]
  },
  {
   "cell_type": "markdown",
   "id": "b61ab39f-8f26-4e38-8bb1-a3987d27cb02",
   "metadata": {},
   "source": [
    "### Data Exploration"
   ]
  },
  {
   "cell_type": "code",
   "execution_count": 31,
   "id": "5cef38b3-f38f-404a-96d7-96a54d71e303",
   "metadata": {},
   "outputs": [],
   "source": [
    "def read_file(location):\n",
    "    with open(os.path.expanduser(location), \"r\") as file:\n",
    "        return pd.read_csv(location, sep=\"\\t\")\n",
    "\n",
    "def parse_csv(location):\n",
    "    with open(os.path.expanduser(location), \"r\") as file:\n",
    "        return pd.read_csv(location, sep=\",\")"
   ]
  },
  {
   "cell_type": "code",
   "execution_count": 32,
   "id": "c3f256e5-425e-4bd6-97dd-d418721ffbec",
   "metadata": {},
   "outputs": [],
   "source": [
    "df = read_file(\"/Users/guillermocomesanacimadevila/Desktop/EFO_0004574_associations_export.tsv\")"
   ]
  },
  {
   "cell_type": "code",
   "execution_count": 33,
   "id": "012d2c0f-4d9a-4563-b36e-9fd0ddd701a0",
   "metadata": {},
   "outputs": [
    {
     "data": {
      "text/plain": [
       "(9640, 15)"
      ]
     },
     "execution_count": 33,
     "metadata": {},
     "output_type": "execute_result"
    }
   ],
   "source": [
    "df.shape # 9640 SNPs"
   ]
  },
  {
   "cell_type": "code",
   "execution_count": 34,
   "id": "866f4693-0f96-4684-96ca-b44214e3b1ba",
   "metadata": {
    "scrolled": true
   },
   "outputs": [
    {
     "data": {
      "text/html": [
       "<div>\n",
       "<style scoped>\n",
       "    .dataframe tbody tr th:only-of-type {\n",
       "        vertical-align: middle;\n",
       "    }\n",
       "\n",
       "    .dataframe tbody tr th {\n",
       "        vertical-align: top;\n",
       "    }\n",
       "\n",
       "    .dataframe thead th {\n",
       "        text-align: right;\n",
       "    }\n",
       "</style>\n",
       "<table border=\"1\" class=\"dataframe\">\n",
       "  <thead>\n",
       "    <tr style=\"text-align: right;\">\n",
       "      <th></th>\n",
       "      <th>riskAllele</th>\n",
       "      <th>pValue</th>\n",
       "      <th>pValueAnnotation</th>\n",
       "      <th>riskFrequency</th>\n",
       "      <th>orValue</th>\n",
       "      <th>beta</th>\n",
       "      <th>ci</th>\n",
       "      <th>mappedGenes</th>\n",
       "      <th>traitName</th>\n",
       "      <th>efoTraits</th>\n",
       "      <th>bgTraits</th>\n",
       "      <th>accessionId</th>\n",
       "      <th>locations</th>\n",
       "      <th>pubmedId</th>\n",
       "      <th>author</th>\n",
       "    </tr>\n",
       "  </thead>\n",
       "  <tbody>\n",
       "    <tr>\n",
       "      <th>0</th>\n",
       "      <td>rs660240-T</td>\n",
       "      <td>2.000000e-12</td>\n",
       "      <td>-</td>\n",
       "      <td>0.215342</td>\n",
       "      <td>-</td>\n",
       "      <td>0.0407522 unit decrease</td>\n",
       "      <td>[0.029-0.052]</td>\n",
       "      <td>CELSR2</td>\n",
       "      <td>Cholesterol to total lipids in chylomicrons an...</td>\n",
       "      <td>cholesterol to total lipids in chylomicrons an...</td>\n",
       "      <td>-</td>\n",
       "      <td>GCST90269677</td>\n",
       "      <td>1:109275216</td>\n",
       "      <td>36764567</td>\n",
       "      <td>Davyson E</td>\n",
       "    </tr>\n",
       "    <tr>\n",
       "      <th>1</th>\n",
       "      <td>rs668948-G</td>\n",
       "      <td>5.000000e-22</td>\n",
       "      <td>-</td>\n",
       "      <td>0.179767</td>\n",
       "      <td>-</td>\n",
       "      <td>0.0596676 unit decrease</td>\n",
       "      <td>[0.048-0.072]</td>\n",
       "      <td>TDRD15,APOB</td>\n",
       "      <td>Cholesterol to total lipids in chylomicrons an...</td>\n",
       "      <td>cholesterol to total lipids in chylomicrons an...</td>\n",
       "      <td>-</td>\n",
       "      <td>GCST90269677</td>\n",
       "      <td>2:21068657</td>\n",
       "      <td>36764567</td>\n",
       "      <td>Davyson E</td>\n",
       "    </tr>\n",
       "    <tr>\n",
       "      <th>2</th>\n",
       "      <td>rs146534110-T</td>\n",
       "      <td>6.000000e-13</td>\n",
       "      <td>-</td>\n",
       "      <td>0.0134888</td>\n",
       "      <td>-</td>\n",
       "      <td>0.148371 unit increase</td>\n",
       "      <td>[0.11-0.19]</td>\n",
       "      <td>SLC22A1</td>\n",
       "      <td>Cholesterol to total lipids in chylomicrons an...</td>\n",
       "      <td>cholesterol to total lipids in chylomicrons an...</td>\n",
       "      <td>-</td>\n",
       "      <td>GCST90269677</td>\n",
       "      <td>6:160157037</td>\n",
       "      <td>36764567</td>\n",
       "      <td>Davyson E</td>\n",
       "    </tr>\n",
       "    <tr>\n",
       "      <th>3</th>\n",
       "      <td>rs117733303-G</td>\n",
       "      <td>1.000000e-80</td>\n",
       "      <td>-</td>\n",
       "      <td>0.0178411</td>\n",
       "      <td>-</td>\n",
       "      <td>0.341533 unit increase</td>\n",
       "      <td>[0.31-0.38]</td>\n",
       "      <td>LPAL2</td>\n",
       "      <td>Cholesterol to total lipids in chylomicrons an...</td>\n",
       "      <td>cholesterol to total lipids in chylomicrons an...</td>\n",
       "      <td>-</td>\n",
       "      <td>GCST90269677</td>\n",
       "      <td>6:160501838</td>\n",
       "      <td>36764567</td>\n",
       "      <td>Davyson E</td>\n",
       "    </tr>\n",
       "    <tr>\n",
       "      <th>4</th>\n",
       "      <td>rs118039278-A</td>\n",
       "      <td>1.000000e-200</td>\n",
       "      <td>-</td>\n",
       "      <td>0.078451</td>\n",
       "      <td>-</td>\n",
       "      <td>0.276321 unit increase</td>\n",
       "      <td>[0.26-0.29]</td>\n",
       "      <td>LPA</td>\n",
       "      <td>Cholesterol to total lipids in chylomicrons an...</td>\n",
       "      <td>cholesterol to total lipids in chylomicrons an...</td>\n",
       "      <td>-</td>\n",
       "      <td>GCST90269677</td>\n",
       "      <td>6:160564494</td>\n",
       "      <td>36764567</td>\n",
       "      <td>Davyson E</td>\n",
       "    </tr>\n",
       "    <tr>\n",
       "      <th>5</th>\n",
       "      <td>rs73596816-A</td>\n",
       "      <td>9.000000e-26</td>\n",
       "      <td>-</td>\n",
       "      <td>0.0331501</td>\n",
       "      <td>-</td>\n",
       "      <td>0.13941 unit increase</td>\n",
       "      <td>[0.11-0.17]</td>\n",
       "      <td>LPA</td>\n",
       "      <td>Cholesterol to total lipids in chylomicrons an...</td>\n",
       "      <td>cholesterol to total lipids in chylomicrons an...</td>\n",
       "      <td>-</td>\n",
       "      <td>GCST90269677</td>\n",
       "      <td>6:160596331</td>\n",
       "      <td>36764567</td>\n",
       "      <td>Davyson E</td>\n",
       "    </tr>\n",
       "    <tr>\n",
       "      <th>6</th>\n",
       "      <td>rs115478735-T</td>\n",
       "      <td>2.000000e-19</td>\n",
       "      <td>-</td>\n",
       "      <td>0.183899</td>\n",
       "      <td>-</td>\n",
       "      <td>0.0555015 unit increase</td>\n",
       "      <td>[0.043-0.068]</td>\n",
       "      <td>ABO</td>\n",
       "      <td>Cholesterol to total lipids in chylomicrons an...</td>\n",
       "      <td>cholesterol to total lipids in chylomicrons an...</td>\n",
       "      <td>-</td>\n",
       "      <td>GCST90269677</td>\n",
       "      <td>9:133274295</td>\n",
       "      <td>36764567</td>\n",
       "      <td>Davyson E</td>\n",
       "    </tr>\n",
       "    <tr>\n",
       "      <th>7</th>\n",
       "      <td>rs1532085-A</td>\n",
       "      <td>8.000000e-91</td>\n",
       "      <td>-</td>\n",
       "      <td>0.384943</td>\n",
       "      <td>-</td>\n",
       "      <td>0.0984173 unit increase</td>\n",
       "      <td>[0.089-0.108]</td>\n",
       "      <td>ALDH1A2</td>\n",
       "      <td>Cholesterol to total lipids in chylomicrons an...</td>\n",
       "      <td>cholesterol to total lipids in chylomicrons an...</td>\n",
       "      <td>-</td>\n",
       "      <td>GCST90269677</td>\n",
       "      <td>15:58391167</td>\n",
       "      <td>36764567</td>\n",
       "      <td>Davyson E</td>\n",
       "    </tr>\n",
       "    <tr>\n",
       "      <th>8</th>\n",
       "      <td>rs1077835-G</td>\n",
       "      <td>2.000000e-82</td>\n",
       "      <td>-</td>\n",
       "      <td>0.218626</td>\n",
       "      <td>-</td>\n",
       "      <td>0.110598 unit increase</td>\n",
       "      <td>[0.099-0.122]</td>\n",
       "      <td>ALDH1A2,LIPC</td>\n",
       "      <td>Cholesterol to total lipids in chylomicrons an...</td>\n",
       "      <td>cholesterol to total lipids in chylomicrons an...</td>\n",
       "      <td>-</td>\n",
       "      <td>GCST90269677</td>\n",
       "      <td>15:58431227</td>\n",
       "      <td>36764567</td>\n",
       "      <td>Davyson E</td>\n",
       "    </tr>\n",
       "    <tr>\n",
       "      <th>9</th>\n",
       "      <td>rs821840-G</td>\n",
       "      <td>2.000000e-64</td>\n",
       "      <td>-</td>\n",
       "      <td>0.324538</td>\n",
       "      <td>-</td>\n",
       "      <td>0.0858703 unit decrease</td>\n",
       "      <td>[0.076-0.096]</td>\n",
       "      <td>HERPUD1,CETP</td>\n",
       "      <td>Cholesterol to total lipids in chylomicrons an...</td>\n",
       "      <td>cholesterol to total lipids in chylomicrons an...</td>\n",
       "      <td>-</td>\n",
       "      <td>GCST90269677</td>\n",
       "      <td>16:56959974</td>\n",
       "      <td>36764567</td>\n",
       "      <td>Davyson E</td>\n",
       "    </tr>\n",
       "  </tbody>\n",
       "</table>\n",
       "</div>"
      ],
      "text/plain": [
       "      riskAllele         pValue pValueAnnotation riskFrequency orValue  \\\n",
       "0     rs660240-T   2.000000e-12                -      0.215342       -   \n",
       "1     rs668948-G   5.000000e-22                -      0.179767       -   \n",
       "2  rs146534110-T   6.000000e-13                -     0.0134888       -   \n",
       "3  rs117733303-G   1.000000e-80                -     0.0178411       -   \n",
       "4  rs118039278-A  1.000000e-200                -      0.078451       -   \n",
       "5   rs73596816-A   9.000000e-26                -     0.0331501       -   \n",
       "6  rs115478735-T   2.000000e-19                -      0.183899       -   \n",
       "7    rs1532085-A   8.000000e-91                -      0.384943       -   \n",
       "8    rs1077835-G   2.000000e-82                -      0.218626       -   \n",
       "9     rs821840-G   2.000000e-64                -      0.324538       -   \n",
       "\n",
       "                      beta             ci   mappedGenes  \\\n",
       "0  0.0407522 unit decrease  [0.029-0.052]        CELSR2   \n",
       "1  0.0596676 unit decrease  [0.048-0.072]   TDRD15,APOB   \n",
       "2   0.148371 unit increase    [0.11-0.19]       SLC22A1   \n",
       "3   0.341533 unit increase    [0.31-0.38]         LPAL2   \n",
       "4   0.276321 unit increase    [0.26-0.29]           LPA   \n",
       "5    0.13941 unit increase    [0.11-0.17]           LPA   \n",
       "6  0.0555015 unit increase  [0.043-0.068]           ABO   \n",
       "7  0.0984173 unit increase  [0.089-0.108]       ALDH1A2   \n",
       "8   0.110598 unit increase  [0.099-0.122]  ALDH1A2,LIPC   \n",
       "9  0.0858703 unit decrease  [0.076-0.096]  HERPUD1,CETP   \n",
       "\n",
       "                                           traitName  \\\n",
       "0  Cholesterol to total lipids in chylomicrons an...   \n",
       "1  Cholesterol to total lipids in chylomicrons an...   \n",
       "2  Cholesterol to total lipids in chylomicrons an...   \n",
       "3  Cholesterol to total lipids in chylomicrons an...   \n",
       "4  Cholesterol to total lipids in chylomicrons an...   \n",
       "5  Cholesterol to total lipids in chylomicrons an...   \n",
       "6  Cholesterol to total lipids in chylomicrons an...   \n",
       "7  Cholesterol to total lipids in chylomicrons an...   \n",
       "8  Cholesterol to total lipids in chylomicrons an...   \n",
       "9  Cholesterol to total lipids in chylomicrons an...   \n",
       "\n",
       "                                           efoTraits bgTraits   accessionId  \\\n",
       "0  cholesterol to total lipids in chylomicrons an...        -  GCST90269677   \n",
       "1  cholesterol to total lipids in chylomicrons an...        -  GCST90269677   \n",
       "2  cholesterol to total lipids in chylomicrons an...        -  GCST90269677   \n",
       "3  cholesterol to total lipids in chylomicrons an...        -  GCST90269677   \n",
       "4  cholesterol to total lipids in chylomicrons an...        -  GCST90269677   \n",
       "5  cholesterol to total lipids in chylomicrons an...        -  GCST90269677   \n",
       "6  cholesterol to total lipids in chylomicrons an...        -  GCST90269677   \n",
       "7  cholesterol to total lipids in chylomicrons an...        -  GCST90269677   \n",
       "8  cholesterol to total lipids in chylomicrons an...        -  GCST90269677   \n",
       "9  cholesterol to total lipids in chylomicrons an...        -  GCST90269677   \n",
       "\n",
       "     locations  pubmedId     author  \n",
       "0  1:109275216  36764567  Davyson E  \n",
       "1   2:21068657  36764567  Davyson E  \n",
       "2  6:160157037  36764567  Davyson E  \n",
       "3  6:160501838  36764567  Davyson E  \n",
       "4  6:160564494  36764567  Davyson E  \n",
       "5  6:160596331  36764567  Davyson E  \n",
       "6  9:133274295  36764567  Davyson E  \n",
       "7  15:58391167  36764567  Davyson E  \n",
       "8  15:58431227  36764567  Davyson E  \n",
       "9  16:56959974  36764567  Davyson E  "
      ]
     },
     "execution_count": 34,
     "metadata": {},
     "output_type": "execute_result"
    }
   ],
   "source": [
    "df.head(n=10)"
   ]
  },
  {
   "cell_type": "code",
   "execution_count": 35,
   "id": "bd8c4922-ad59-46e3-84eb-b93e5311faa8",
   "metadata": {
    "scrolled": true
   },
   "outputs": [
    {
     "data": {
      "text/plain": [
       "riskAllele          0\n",
       "pValue              0\n",
       "pValueAnnotation    0\n",
       "riskFrequency       0\n",
       "orValue             0\n",
       "beta                0\n",
       "ci                  0\n",
       "mappedGenes         0\n",
       "traitName           0\n",
       "efoTraits           0\n",
       "bgTraits            0\n",
       "accessionId         0\n",
       "locations           0\n",
       "pubmedId            0\n",
       "author              0\n",
       "dtype: int64"
      ]
     },
     "execution_count": 35,
     "metadata": {},
     "output_type": "execute_result"
    }
   ],
   "source": [
    "df.isna().sum() # all good"
   ]
  },
  {
   "cell_type": "code",
   "execution_count": 36,
   "id": "15b1b1c7-cf8c-4a13-8c8b-34c4e4c17720",
   "metadata": {},
   "outputs": [
    {
     "data": {
      "text/plain": [
       "array(['-', '(total cholesterol)', '(European)', '(AA)', '(EA)',\n",
       "       '(conditional)', '(TC )', '(TC)', '(BMI unadjusted)',\n",
       "       '(BMI adjusted)', '(Asian initial, BMI unadjusted)',\n",
       "       '(Trans-ethnic initial)', '(Hispanic)', '(Hispanic/Latino)',\n",
       "       '(East Asian)', '(Filipino)', '(conditional on round 3)',\n",
       "       '(Indian)', '(Conditioned on rs12657266)',\n",
       "       '(Conditioned on rs3852789)', '(Conditioned on rs141622900)',\n",
       "       '(Conditioned on rs5753021)', '(Conditioned on rs119480069)',\n",
       "       '(Conditioned on rs10474433)', '(Conditioned on rs183130)',\n",
       "       '(Conditioned on rs60191209)', '(Conditioned on rs73596816)',\n",
       "       '(Conditioned on rs11082764)', '(Conditioned on rs1532085)',\n",
       "       '(Conditioned on rs2738464)', '(Conditioned on rs998870472)',\n",
       "       '(Conditioned on rs486142)', '(Conditioned on rs9994887)',\n",
       "       '(Conditioned on rs662799)', '(Conditioned on rs2575876)',\n",
       "       '(Conditioned on rs529192228)', '(Conditioned on rs6029632)',\n",
       "       '(Conditioned on rs13306194)', '(Conditioned on rs7525649)',\n",
       "       '(Conditioned on rs555844715)', '(Conditioned on rs6547692)',\n",
       "       '(HDL-C)', '(Total cholesterol)', '(conditioned on lead variant)'],\n",
       "      dtype=object)"
      ]
     },
     "execution_count": 36,
     "metadata": {},
     "output_type": "execute_result"
    }
   ],
   "source": [
    "df.columns\n",
    "df[\"pValueAnnotation\"].unique()"
   ]
  },
  {
   "cell_type": "markdown",
   "id": "09602937-4da6-4df3-bd4f-0245ea07fb33",
   "metadata": {},
   "source": [
    "### Data Pre-processing"
   ]
  },
  {
   "cell_type": "code",
   "execution_count": 37,
   "id": "616e390a-807a-4c0f-8bbe-a37908cb9a93",
   "metadata": {},
   "outputs": [],
   "source": [
    "df2 = df.head(n=1000)\n",
    "\n",
    "# check only 500 SNPs\n",
    "df2.shape\n",
    "\n",
    "# Export to CSV\n",
    "df2.to_csv(\"fiveh_snps.csv\", header=False)"
   ]
  },
  {
   "cell_type": "code",
   "execution_count": 38,
   "id": "3eaafb88-8f00-4a6b-8d73-ef5874b52d72",
   "metadata": {
    "scrolled": true
   },
   "outputs": [
    {
     "data": {
      "text/plain": [
       "(9640, 9)"
      ]
     },
     "execution_count": 38,
     "metadata": {},
     "output_type": "execute_result"
    }
   ],
   "source": [
    "df2.head(n=5)\n",
    "df2 = df.drop(columns = [\"traitName\", \"efoTraits\", \"author\", \"pubmedId\", \"bgTraits\", \"pValueAnnotation\"])\n",
    "df2.shape"
   ]
  },
  {
   "cell_type": "code",
   "execution_count": 39,
   "id": "0a9ad82e-5934-4457-a16f-58a9dbfd43de",
   "metadata": {},
   "outputs": [
    {
     "data": {
      "text/plain": [
       "(500, 9)"
      ]
     },
     "execution_count": 39,
     "metadata": {},
     "output_type": "execute_result"
    }
   ],
   "source": [
    "df2 = df2.head(n=500)\n",
    "df2.shape"
   ]
  },
  {
   "cell_type": "code",
   "execution_count": 40,
   "id": "17f512cb-019d-4536-aa84-94c23a1b05f1",
   "metadata": {
    "scrolled": true
   },
   "outputs": [],
   "source": [
    "df2.isna().sum()\n",
    "df2.to_csv(\"fiveh_snps.csv\", header=True)"
   ]
  },
  {
   "cell_type": "code",
   "execution_count": 41,
   "id": "a82ce1b8-fe80-476b-8119-e225da5e0ffb",
   "metadata": {
    "scrolled": true
   },
   "outputs": [
    {
     "data": {
      "text/html": [
       "<div>\n",
       "<style scoped>\n",
       "    .dataframe tbody tr th:only-of-type {\n",
       "        vertical-align: middle;\n",
       "    }\n",
       "\n",
       "    .dataframe tbody tr th {\n",
       "        vertical-align: top;\n",
       "    }\n",
       "\n",
       "    .dataframe thead th {\n",
       "        text-align: right;\n",
       "    }\n",
       "</style>\n",
       "<table border=\"1\" class=\"dataframe\">\n",
       "  <thead>\n",
       "    <tr style=\"text-align: right;\">\n",
       "      <th></th>\n",
       "      <th>riskAllele</th>\n",
       "      <th>pValue</th>\n",
       "      <th>riskFrequency</th>\n",
       "      <th>orValue</th>\n",
       "      <th>beta</th>\n",
       "      <th>ci</th>\n",
       "      <th>mappedGenes</th>\n",
       "      <th>accessionId</th>\n",
       "      <th>locations</th>\n",
       "    </tr>\n",
       "  </thead>\n",
       "  <tbody>\n",
       "    <tr>\n",
       "      <th>0</th>\n",
       "      <td>rs660240-T</td>\n",
       "      <td>2.000000e-12</td>\n",
       "      <td>0.215342</td>\n",
       "      <td>-</td>\n",
       "      <td>0.0407522 unit decrease</td>\n",
       "      <td>[0.029-0.052]</td>\n",
       "      <td>CELSR2</td>\n",
       "      <td>GCST90269677</td>\n",
       "      <td>1:109275216</td>\n",
       "    </tr>\n",
       "    <tr>\n",
       "      <th>1</th>\n",
       "      <td>rs668948-G</td>\n",
       "      <td>5.000000e-22</td>\n",
       "      <td>0.179767</td>\n",
       "      <td>-</td>\n",
       "      <td>0.0596676 unit decrease</td>\n",
       "      <td>[0.048-0.072]</td>\n",
       "      <td>TDRD15,APOB</td>\n",
       "      <td>GCST90269677</td>\n",
       "      <td>2:21068657</td>\n",
       "    </tr>\n",
       "    <tr>\n",
       "      <th>2</th>\n",
       "      <td>rs146534110-T</td>\n",
       "      <td>6.000000e-13</td>\n",
       "      <td>0.0134888</td>\n",
       "      <td>-</td>\n",
       "      <td>0.148371 unit increase</td>\n",
       "      <td>[0.11-0.19]</td>\n",
       "      <td>SLC22A1</td>\n",
       "      <td>GCST90269677</td>\n",
       "      <td>6:160157037</td>\n",
       "    </tr>\n",
       "    <tr>\n",
       "      <th>3</th>\n",
       "      <td>rs117733303-G</td>\n",
       "      <td>1.000000e-80</td>\n",
       "      <td>0.0178411</td>\n",
       "      <td>-</td>\n",
       "      <td>0.341533 unit increase</td>\n",
       "      <td>[0.31-0.38]</td>\n",
       "      <td>LPAL2</td>\n",
       "      <td>GCST90269677</td>\n",
       "      <td>6:160501838</td>\n",
       "    </tr>\n",
       "    <tr>\n",
       "      <th>4</th>\n",
       "      <td>rs118039278-A</td>\n",
       "      <td>1.000000e-200</td>\n",
       "      <td>0.078451</td>\n",
       "      <td>-</td>\n",
       "      <td>0.276321 unit increase</td>\n",
       "      <td>[0.26-0.29]</td>\n",
       "      <td>LPA</td>\n",
       "      <td>GCST90269677</td>\n",
       "      <td>6:160564494</td>\n",
       "    </tr>\n",
       "    <tr>\n",
       "      <th>...</th>\n",
       "      <td>...</td>\n",
       "      <td>...</td>\n",
       "      <td>...</td>\n",
       "      <td>...</td>\n",
       "      <td>...</td>\n",
       "      <td>...</td>\n",
       "      <td>...</td>\n",
       "      <td>...</td>\n",
       "      <td>...</td>\n",
       "    </tr>\n",
       "    <tr>\n",
       "      <th>495</th>\n",
       "      <td>rs562338-A</td>\n",
       "      <td>1.000000e-63</td>\n",
       "      <td>0.179822</td>\n",
       "      <td>-</td>\n",
       "      <td>0.100471 unit decrease</td>\n",
       "      <td>[0.089-0.112]</td>\n",
       "      <td>APOB,TDRD15</td>\n",
       "      <td>GCST90269623</td>\n",
       "      <td>2:21065449</td>\n",
       "    </tr>\n",
       "    <tr>\n",
       "      <th>496</th>\n",
       "      <td>rs4299376-G</td>\n",
       "      <td>6.000000e-21</td>\n",
       "      <td>0.323605</td>\n",
       "      <td>-</td>\n",
       "      <td>0.0461548 unit increase</td>\n",
       "      <td>[0.037-0.056]</td>\n",
       "      <td>ABCG8</td>\n",
       "      <td>GCST90269623</td>\n",
       "      <td>2:43845437</td>\n",
       "    </tr>\n",
       "    <tr>\n",
       "      <th>497</th>\n",
       "      <td>rs3843480-C</td>\n",
       "      <td>2.000000e-32</td>\n",
       "      <td>0.375198</td>\n",
       "      <td>-</td>\n",
       "      <td>0.0561109 unit increase</td>\n",
       "      <td>[0.047-0.065]</td>\n",
       "      <td>ANKRD31,HMGCR</td>\n",
       "      <td>GCST90269623</td>\n",
       "      <td>5:75328657</td>\n",
       "    </tr>\n",
       "    <tr>\n",
       "      <th>498</th>\n",
       "      <td>rs7773004-A</td>\n",
       "      <td>3.000000e-11</td>\n",
       "      <td>0.505338</td>\n",
       "      <td>-</td>\n",
       "      <td>0.0321601 unit decrease</td>\n",
       "      <td>[0.023-0.042]</td>\n",
       "      <td>H2BC9,H3C8</td>\n",
       "      <td>GCST90269623</td>\n",
       "      <td>6:26267527</td>\n",
       "    </tr>\n",
       "    <tr>\n",
       "      <th>499</th>\n",
       "      <td>rs3798167-T</td>\n",
       "      <td>6.000000e-11</td>\n",
       "      <td>0.199346</td>\n",
       "      <td>-</td>\n",
       "      <td>0.0378342 unit decrease</td>\n",
       "      <td>[0.026-0.049]</td>\n",
       "      <td>SLC22A1</td>\n",
       "      <td>GCST90269623</td>\n",
       "      <td>6:160146896</td>\n",
       "    </tr>\n",
       "  </tbody>\n",
       "</table>\n",
       "<p>500 rows × 9 columns</p>\n",
       "</div>"
      ],
      "text/plain": [
       "        riskAllele         pValue riskFrequency orValue  \\\n",
       "0       rs660240-T   2.000000e-12      0.215342       -   \n",
       "1       rs668948-G   5.000000e-22      0.179767       -   \n",
       "2    rs146534110-T   6.000000e-13     0.0134888       -   \n",
       "3    rs117733303-G   1.000000e-80     0.0178411       -   \n",
       "4    rs118039278-A  1.000000e-200      0.078451       -   \n",
       "..             ...            ...           ...     ...   \n",
       "495     rs562338-A   1.000000e-63      0.179822       -   \n",
       "496    rs4299376-G   6.000000e-21      0.323605       -   \n",
       "497    rs3843480-C   2.000000e-32      0.375198       -   \n",
       "498    rs7773004-A   3.000000e-11      0.505338       -   \n",
       "499    rs3798167-T   6.000000e-11      0.199346       -   \n",
       "\n",
       "                        beta             ci    mappedGenes   accessionId  \\\n",
       "0    0.0407522 unit decrease  [0.029-0.052]         CELSR2  GCST90269677   \n",
       "1    0.0596676 unit decrease  [0.048-0.072]    TDRD15,APOB  GCST90269677   \n",
       "2     0.148371 unit increase    [0.11-0.19]        SLC22A1  GCST90269677   \n",
       "3     0.341533 unit increase    [0.31-0.38]          LPAL2  GCST90269677   \n",
       "4     0.276321 unit increase    [0.26-0.29]            LPA  GCST90269677   \n",
       "..                       ...            ...            ...           ...   \n",
       "495   0.100471 unit decrease  [0.089-0.112]    APOB,TDRD15  GCST90269623   \n",
       "496  0.0461548 unit increase  [0.037-0.056]          ABCG8  GCST90269623   \n",
       "497  0.0561109 unit increase  [0.047-0.065]  ANKRD31,HMGCR  GCST90269623   \n",
       "498  0.0321601 unit decrease  [0.023-0.042]     H2BC9,H3C8  GCST90269623   \n",
       "499  0.0378342 unit decrease  [0.026-0.049]        SLC22A1  GCST90269623   \n",
       "\n",
       "       locations  \n",
       "0    1:109275216  \n",
       "1     2:21068657  \n",
       "2    6:160157037  \n",
       "3    6:160501838  \n",
       "4    6:160564494  \n",
       "..           ...  \n",
       "495   2:21065449  \n",
       "496   2:43845437  \n",
       "497   5:75328657  \n",
       "498   6:26267527  \n",
       "499  6:160146896  \n",
       "\n",
       "[500 rows x 9 columns]"
      ]
     },
     "execution_count": 41,
     "metadata": {},
     "output_type": "execute_result"
    }
   ],
   "source": [
    "df2"
   ]
  },
  {
   "cell_type": "code",
   "execution_count": 42,
   "id": "e6595809-2fff-4443-a5e9-ee3ee37dccc8",
   "metadata": {},
   "outputs": [],
   "source": [
    "reg = df2[[\"riskAllele\", \"beta\"]]\n",
    "reg # Need to get rid of the \"unit decrease\" thingy - SQL\n",
    "reg.to_csv(\"beta_snp.csv\", header=True)"
   ]
  },
  {
   "cell_type": "code",
   "execution_count": 43,
   "id": "2df63579-bcc3-409f-8a44-4e657100b6bd",
   "metadata": {},
   "outputs": [],
   "source": [
    "reg2 = parse_csv(\"/Users/guillermocomesanacimadevila/Desktop/beta_snps.csv\")\n",
    "reg2 = reg2[[\"riskAllele\", \"beta_cleaned\"]]\n",
    "reg2.rename(columns={\"riskAllele\": \"SNP\"}, inplace=True)"
   ]
  },
  {
   "cell_type": "code",
   "execution_count": 45,
   "id": "f6ef6345-2655-4e49-9ba3-cbf17a484781",
   "metadata": {
    "scrolled": true
   },
   "outputs": [],
   "source": [
    "reg2.shape\n",
    "reg2\n",
    "reg2.to_csv(\"beta_snps.csv\", header=True)"
   ]
  },
  {
   "cell_type": "markdown",
   "id": "8765bc6e-238d-4841-912f-74f9829e712b",
   "metadata": {},
   "source": [
    "### Linear Regression (Just SNPs and Beta)"
   ]
  },
  {
   "cell_type": "code",
   "execution_count": 50,
   "id": "9a2f4df0-b529-44e4-ba43-5050e3495198",
   "metadata": {},
   "outputs": [
    {
     "data": {
      "text/plain": [
       "Index(['SNP', 'beta'], dtype='object')"
      ]
     },
     "execution_count": 50,
     "metadata": {},
     "output_type": "execute_result"
    }
   ],
   "source": [
    "reg2.rename(columns={\"beta_cleaned\": \"beta\"}, inplace=True)\n",
    "reg2.columns # check"
   ]
  },
  {
   "cell_type": "code",
   "execution_count": 51,
   "id": "01245d1d-2c15-4a1b-8c82-a7951fd41a6d",
   "metadata": {},
   "outputs": [
    {
     "data": {
      "text/plain": [
       "SNP     0\n",
       "beta    0\n",
       "dtype: int64"
      ]
     },
     "execution_count": 51,
     "metadata": {},
     "output_type": "execute_result"
    }
   ],
   "source": [
    "reg2.isna().sum()"
   ]
  },
  {
   "cell_type": "code",
   "execution_count": 52,
   "id": "2787f9f9-ae30-409b-81dd-0019108f4c33",
   "metadata": {},
   "outputs": [],
   "source": [
    "# Encode SNP names as numerical for regression\n",
    "reg2[\"SNP_encoded\"] = reg2[\"SNP\"].astype(\"category\").cat.codes"
   ]
  },
  {
   "cell_type": "code",
   "execution_count": 55,
   "id": "67fc30ea-5992-4cb0-9cd3-69a0117d4af8",
   "metadata": {
    "scrolled": true
   },
   "outputs": [
    {
     "data": {
      "text/plain": [
       "8385"
      ]
     },
     "execution_count": 55,
     "metadata": {},
     "output_type": "execute_result"
    }
   ],
   "source": [
    "reg2[\"SNP_encoded\"].unique().sum()"
   ]
  },
  {
   "cell_type": "code",
   "execution_count": 56,
   "id": "c065ec52-569a-47bf-b218-f40c41d94f99",
   "metadata": {},
   "outputs": [],
   "source": [
    "# Splitting into training and test data\n",
    "X = reg2[[\"SNP_encoded\"]]\n",
    "y = reg2[[\"beta\"]]\n",
    "\n",
    "# 80% training and 20% test\n",
    "X_train, X_test, y_train, y_test = train_test_split(X, y, test_size=0.2, random_state=42)"
   ]
  },
  {
   "cell_type": "code",
   "execution_count": 57,
   "id": "1144d97d-0444-4f58-9bb1-1248b813cf01",
   "metadata": {},
   "outputs": [],
   "source": [
    "model = LinearRegression()\n",
    "model.fit(X_train, y_train)\n",
    "\n",
    "# make predictions \n",
    "y_pred = model.predict(X_test)"
   ]
  },
  {
   "cell_type": "markdown",
   "id": "b29bb8a0-bf4e-4e4e-8402-08dfcad29bc8",
   "metadata": {},
   "source": [
    "### Performance Metric Check\n",
    "##### MAE, MSE, R2"
   ]
  },
  {
   "cell_type": "code",
   "execution_count": 58,
   "id": "ba5b5f7c-bb22-4ed3-95ce-efb57022faea",
   "metadata": {},
   "outputs": [
    {
     "name": "stdout",
     "output_type": "stream",
     "text": [
      "MAE: 0.04199747806356929\n",
      "MSE: 0.002705974643578093\n",
      "R2 Score: -0.0024198424009722608\n"
     ]
    }
   ],
   "source": [
    "mae = mean_absolute_error(y_test, y_pred)\n",
    "mse = mean_squared_error(y_test, y_pred)\n",
    "r2 = r2_score(y_test, y_pred)\n",
    "\n",
    "print(f\"MAE: {mae}\")\n",
    "print(f\"MSE: {mse}\")\n",
    "print(f\"R2 Score: {r2}\")"
   ]
  },
  {
   "cell_type": "markdown",
   "id": "18d12df6-c354-4412-8013-caaae73f81d3",
   "metadata": {},
   "source": [
    "### Data Visualisation"
   ]
  },
  {
   "cell_type": "code",
   "execution_count": 61,
   "id": "874dd276-dab0-48fa-8194-0bd557bf1b11",
   "metadata": {
    "scrolled": true
   },
   "outputs": [
    {
     "data": {
      "image/png": "[encoded data removed]",
      "text/plain": [
       "<Figure size 1000x500 with 1 Axes>"
      ]
     },
     "metadata": {},
     "output_type": "display_data"
    }
   ],
   "source": [
    "# Beta coefficient histogram\n",
    "plt.figure(figsize=(10, 5))\n",
    "sns.histplot(reg2[\"beta\"], bins=30, kde=True)\n",
    "plt.xlabel(\"Beta Coefficient\")\n",
    "plt.ylabel(\"Frequency\")\n",
    "plt.title(\"Distribution of SNP Beta Coefficients\")\n",
    "plt.show()"
   ]
  },
  {
   "cell_type": "code",
   "execution_count": 64,
   "id": "3acc98a1-e59b-45e1-a96a-e977987d5de9",
   "metadata": {
    "scrolled": true
   },
   "outputs": [
    {
     "data": {
      "image/png": "[encoded data removed]",
      "text/plain": [
       "<Figure size 800x600 with 1 Axes>"
      ]
     },
     "metadata": {},
     "output_type": "display_data"
    }
   ],
   "source": [
    "plt.figure(figsize=(8, 6))\n",
    "\n",
    "y_test = np.array(y_test).flatten()\n",
    "y_pred = np.array(y_pred).flatten()\n",
    "\n",
    "sns.scatterplot(x=y_test, y=y_pred, alpha=0.6)\n",
    "plt.plot([min(y_test), max(y_test)], [min(y_test), max(y_test)], color=\"red\", linestyle=\"dashed\")  \n",
    "plt.xlabel(\"Actual Beta Coefficients\")\n",
    "plt.ylabel(\"Predicted Beta Coefficients\")\n",
    "plt.title(\"Actual vs Predicted Beta Coefficients\")\n",
    "plt.show()"
   ]
  },
  {
   "cell_type": "code",
   "execution_count": null,
   "id": "51b391b7-2fe4-4c84-a82d-fef34c0afa81",
   "metadata": {},
   "outputs": [],
   "source": []
  }
 ],
 "metadata": {
  "kernelspec": {
   "display_name": "Python 3 (ipykernel)",
   "language": "python",
   "name": "python3"
  },
  "language_info": {
   "codemirror_mode": {
    "name": "ipython",
    "version": 3
   },
   "file_extension": ".py",
   "mimetype": "text/x-python",
   "name": "python",
   "nbconvert_exporter": "python",
   "pygments_lexer": "ipython3",
   "version": "3.12.7"
  }
 },
 "nbformat": 4,
 "nbformat_minor": 5
}
